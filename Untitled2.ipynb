{
  "cells": [
    {
      "cell_type": "code",
      "execution_count": null,
      "metadata": {
        "colab": {
          "base_uri": "https://localhost:8080/"
        },
        "id": "wQ7gJ73VuJ9n",
        "outputId": "2c77fab1-b8c3-478c-c88a-f627f4eb40f2"
      },
      "outputs": [
        {
          "name": "stdout",
          "output_type": "stream",
          "text": [
            "[-0.08849684  1.15585695 -0.52906342  1.3293205  -0.38228016]\n"
          ]
        }
      ],
      "source": [
        "import numpy as np\n",
        "a = np.random.randn(5)\n",
        "# random function to generate 5 random numbers between -1 and 1\n",
        "# np.random.randn function generates random numbers from a standard normal distribution\n",
        "print(a)"
      ]
    },
    {
      "cell_type": "code",
      "execution_count": null,
      "metadata": {
        "colab": {
          "base_uri": "https://localhost:8080/"
        },
        "id": "DD9uWiZNuX9f",
        "outputId": "ddae6ed2-0f80-40c6-8f5d-6a0737e83c05"
      },
      "outputs": [
        {
          "name": "stdout",
          "output_type": "stream",
          "text": [
            "[[[-0.58020709 -0.56010307]\n",
            "  [ 0.90359124  0.12053383]]\n",
            "\n",
            " [[-0.44031043  1.85207553]\n",
            "  [ 1.53401751  0.41297895]]]\n"
          ]
        }
      ],
      "source": [
        "import numpy as np\n",
        "a = np.random.randn(2,2,2)\n",
        "print(a)"
      ]
    },
    {
      "cell_type": "code",
      "execution_count": 2,
      "metadata": {
        "colab": {
          "base_uri": "https://localhost:8080/"
        },
        "id": "f4-aWGRXun4p",
        "outputId": "dd120564-9024-453f-e5f5-159f6f54374e"
      },
      "outputs": [
        {
          "name": "stdout",
          "output_type": "stream",
          "text": [
            "-3\n"
          ]
        }
      ],
      "source": [
        "c=np.random.randint(-5,0)\n",
        "print(c)"
      ]
    },
    {
      "cell_type": "code",
      "execution_count": null,
      "metadata": {
        "colab": {
          "base_uri": "https://localhost:8080/"
        },
        "id": "5vPm9lkPvP7x",
        "outputId": "1a70c3d7-e8c3-46b9-a7cc-036e2c8de58f"
      },
      "outputs": [
        {
          "name": "stdout",
          "output_type": "stream",
          "text": [
            "[ 144.          268.01419942  498.83063258  928.4284211  1728.        ]\n"
          ]
        }
      ],
      "source": [
        "a=np.logspace(2.0,3.0,num=5,base=12)\n",
        "# logspace function generates numbers spaced evenly on a log scale between 10^start and 10^stop\n",
        "print(a)"
      ]
    },
    {
      "cell_type": "code",
      "execution_count": 4,
      "metadata": {
        "colab": {
          "base_uri": "https://localhost:8080/"
        },
        "id": "y0CzqP2GwiYq",
        "outputId": "b1a3a565-7df5-45b6-b36a-250310896404"
      },
      "outputs": [
        {
          "name": "stdout",
          "output_type": "stream",
          "text": [
            "[ 100.          177.827941    316.22776602  562.34132519 1000.        ]\n",
            "[ 100  177  316  562 1000]\n",
            "[ 100.          177.827941    316.22776602  562.34132519 1000.        ]\n"
          ]
        }
      ],
      "source": [
        "# if we did not mention base then the default base is 10\n",
        "a=np.logspace(2.0,3.0,num=5)\n",
        "print(a)\n",
        "# by using d type only we can mention the data type\n",
        "a=np.logspace(2.0,3.0,num=5,dtype=int)\n",
        "print(a)\n",
        "a=np.logspace(2,3.0,num=5,dtype=float)\n",
        "print(a)"
      ]
    },
    {
      "cell_type": "code",
      "execution_count": 5,
      "metadata": {
        "colab": {
          "base_uri": "https://localhost:8080/"
        },
        "id": "Svw2BFRyx7pN",
        "outputId": "7a7a872a-da96-4970-d7cb-2679974c8149"
      },
      "outputs": [
        {
          "name": "stdout",
          "output_type": "stream",
          "text": [
            "[0 1 2]\n"
          ]
        }
      ],
      "source": [
        "a=np.arange(3)\n",
        "print(a)"
      ]
    },
    {
      "cell_type": "code",
      "execution_count": 6,
      "metadata": {
        "colab": {
          "base_uri": "https://localhost:8080/"
        },
        "id": "k_d0x9biyd3y",
        "outputId": "f36b3d44-a599-486f-9eb7-efc96f6fce81"
      },
      "outputs": [
        {
          "name": "stdout",
          "output_type": "stream",
          "text": [
            "[3 4 5]\n"
          ]
        }
      ],
      "source": [
        "a=np.arange(3,6)\n",
        "print(a)"
      ]
    },
    {
      "cell_type": "code",
      "execution_count": 7,
      "metadata": {
        "colab": {
          "base_uri": "https://localhost:8080/"
        },
        "id": "t0Ivw23tyxTd",
        "outputId": "e602708e-e3f6-4bf7-c978-494a87212db9"
      },
      "outputs": [
        {
          "name": "stdout",
          "output_type": "stream",
          "text": [
            "[ 1  3  5  7  9 11 13 15 17 19 21 23 25 27 29]\n"
          ]
        }
      ],
      "source": [
        "# start stop step\n",
        "a=np.arange(1,30,2)\n",
        "print(a)"
      ]
    },
    {
      "cell_type": "code",
      "execution_count": null,
      "metadata": {
        "id": "xZHbjG9nzOPv"
      },
      "outputs": [],
      "source": []
    }
  ],
  "metadata": {
    "colab": {
      "provenance": []
    },
    "kernelspec": {
      "display_name": "Python 3",
      "name": "python3"
    },
    "language_info": {
      "codemirror_mode": {
        "name": "ipython",
        "version": 3
      },
      "file_extension": ".py",
      "mimetype": "text/x-python",
      "name": "python",
      "nbconvert_exporter": "python",
      "pygments_lexer": "ipython3",
      "version": "3.12.10"
    }
  },
  "nbformat": 4,
  "nbformat_minor": 0
}
