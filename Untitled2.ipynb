{
  "nbformat": 4,
  "nbformat_minor": 0,
  "metadata": {
    "colab": {
      "provenance": []
    },
    "kernelspec": {
      "name": "python3",
      "display_name": "Python 3"
    },
    "language_info": {
      "name": "python"
    }
  },
  "cells": [
    {
      "cell_type": "code",
      "execution_count": null,
      "metadata": {
        "colab": {
          "base_uri": "https://localhost:8080/"
        },
        "id": "wQ7gJ73VuJ9n",
        "outputId": "2c77fab1-b8c3-478c-c88a-f627f4eb40f2"
      },
      "outputs": [
        {
          "output_type": "stream",
          "name": "stdout",
          "text": [
            "[ 1.94925523 -1.52582774  0.04565075 -1.23027594 -0.65831749]\n"
          ]
        }
      ],
      "source": [
        "import numpy as np\n",
        "a = np.random.randn(5)\n",
        "print(a)"
      ]
    },
    {
      "cell_type": "code",
      "source": [
        "import numpy as np\n",
        "a = np.random.randn(2,2,2)\n",
        "print(a)"
      ],
      "metadata": {
        "colab": {
          "base_uri": "https://localhost:8080/"
        },
        "id": "DD9uWiZNuX9f",
        "outputId": "ddae6ed2-0f80-40c6-8f5d-6a0737e83c05"
      },
      "execution_count": null,
      "outputs": [
        {
          "output_type": "stream",
          "name": "stdout",
          "text": [
            "[[[-0.58020709 -0.56010307]\n",
            "  [ 0.90359124  0.12053383]]\n",
            "\n",
            " [[-0.44031043  1.85207553]\n",
            "  [ 1.53401751  0.41297895]]]\n"
          ]
        }
      ]
    },
    {
      "cell_type": "code",
      "source": [
        "c=np.random.randint(-5,0)\n",
        "print(c)"
      ],
      "metadata": {
        "colab": {
          "base_uri": "https://localhost:8080/"
        },
        "id": "f4-aWGRXun4p",
        "outputId": "dd120564-9024-453f-e5f5-159f6f54374e"
      },
      "execution_count": null,
      "outputs": [
        {
          "output_type": "stream",
          "name": "stdout",
          "text": [
            "-5\n"
          ]
        }
      ]
    },
    {
      "cell_type": "code",
      "source": [
        "a=np.logspace(2.0,3.0,num=5,base=12)\n",
        "print(a)"
      ],
      "metadata": {
        "colab": {
          "base_uri": "https://localhost:8080/"
        },
        "id": "5vPm9lkPvP7x",
        "outputId": "1a70c3d7-e8c3-46b9-a7cc-036e2c8de58f"
      },
      "execution_count": null,
      "outputs": [
        {
          "output_type": "stream",
          "name": "stdout",
          "text": [
            "[ 144.          268.01419942  498.83063258  928.4284211  1728.        ]\n"
          ]
        }
      ]
    },
    {
      "cell_type": "code",
      "source": [
        "# if we did not mention base then the default base is 10\n",
        "a=np.logspace(2.0,3.0,num=5)\n",
        "print(a)\n",
        "# by using d type only we can mention the data type\n",
        "a=np.logspace(2.0,3.0,num=5,dtype=int)\n",
        "print(a)\n",
        "a=np.logspace(2,3.0,num=5,dtype=float)\n",
        "print(a)"
      ],
      "metadata": {
        "colab": {
          "base_uri": "https://localhost:8080/"
        },
        "id": "y0CzqP2GwiYq",
        "outputId": "b1a3a565-7df5-45b6-b36a-250310896404"
      },
      "execution_count": null,
      "outputs": [
        {
          "output_type": "stream",
          "name": "stdout",
          "text": [
            "[ 100.          177.827941    316.22776602  562.34132519 1000.        ]\n",
            "[ 100  177  316  562 1000]\n",
            "[ True  True  True  True  True]\n"
          ]
        }
      ]
    },
    {
      "cell_type": "code",
      "source": [
        "a=np.arange(3)\n",
        "print(a)"
      ],
      "metadata": {
        "colab": {
          "base_uri": "https://localhost:8080/"
        },
        "id": "Svw2BFRyx7pN",
        "outputId": "7a7a872a-da96-4970-d7cb-2679974c8149"
      },
      "execution_count": null,
      "outputs": [
        {
          "output_type": "stream",
          "name": "stdout",
          "text": [
            "[0 1 2]\n"
          ]
        }
      ]
    },
    {
      "cell_type": "code",
      "source": [
        "a=np.arange(3,6)\n",
        "print(a)"
      ],
      "metadata": {
        "colab": {
          "base_uri": "https://localhost:8080/"
        },
        "id": "k_d0x9biyd3y",
        "outputId": "f36b3d44-a599-486f-9eb7-efc96f6fce81"
      },
      "execution_count": null,
      "outputs": [
        {
          "output_type": "stream",
          "name": "stdout",
          "text": [
            "[3 4 5]\n"
          ]
        }
      ]
    },
    {
      "cell_type": "code",
      "source": [
        "# start stop step\n",
        "a=np.arange(1,30,2)\n",
        "print(a)"
      ],
      "metadata": {
        "colab": {
          "base_uri": "https://localhost:8080/"
        },
        "id": "t0Ivw23tyxTd",
        "outputId": "e602708e-e3f6-4bf7-c978-494a87212db9"
      },
      "execution_count": null,
      "outputs": [
        {
          "output_type": "stream",
          "name": "stdout",
          "text": [
            "[ 1  3  5  7  9 11 13 15 17 19 21 23 25 27 29]\n"
          ]
        }
      ]
    },
    {
      "cell_type": "code",
      "source": [],
      "metadata": {
        "id": "xZHbjG9nzOPv"
      },
      "execution_count": null,
      "outputs": []
    }
  ]
}