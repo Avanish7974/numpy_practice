{
  "nbformat": 4,
  "nbformat_minor": 0,
  "metadata": {
    "colab": {
      "provenance": []
    },
    "kernelspec": {
      "name": "python3",
      "display_name": "Python 3"
    },
    "language_info": {
      "name": "python"
    }
  },
  "cells": [
    {
      "cell_type": "code",
      "execution_count": null,
      "metadata": {
        "colab": {
          "base_uri": "https://localhost:8080/"
        },
        "id": "6UdB-zZ-Tj4V",
        "outputId": "f1e6586f-9c4a-41f6-db89-d6550617cc34"
      },
      "outputs": [
        {
          "output_type": "stream",
          "name": "stdout",
          "text": [
            "[array([1, 2, 3]), array([4, 5]), array([6, 7])]\n",
            "[array([1, 2, 3]), array([4, 5]), array([6, 7])]\n"
          ]
        }
      ],
      "source": [
        "import numpy as np\n",
        "\n",
        "# split function is use to split the array in parts\n",
        "arr1 = np.array([1, 2, 3,4,5,6,7])\n",
        "arr = np.array_split(arr1, 3)\n",
        "print(arr)\n",
        "# # split function is use to split the array in parts\n",
        "arr2 = np.array([1, 2, 3,4,5,6,7,8,9])\n",
        "arr = np.array_split(arr1, 3)\n",
        "print(arr)"
      ]
    },
    {
      "cell_type": "code",
      "source": [],
      "metadata": {
        "id": "yC_H9ZqGVOV2"
      },
      "execution_count": null,
      "outputs": []
    }
  ]
}