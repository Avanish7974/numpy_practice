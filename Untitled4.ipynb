{
  "cells": [
    {
      "cell_type": "code",
      "execution_count": 1,
      "metadata": {
        "colab": {
          "base_uri": "https://localhost:8080/"
        },
        "id": "WIcCrHDkD8Bc",
        "outputId": "64c08880-ff5b-4a3b-b48a-aa3484e48780"
      },
      "outputs": [
        {
          "name": "stdout",
          "output_type": "stream",
          "text": [
            "(2, 2, 3)\n",
            "[1 2 3]\n",
            "[4 5 6]\n",
            "[1 2 3]\n",
            "[4 5 6]\n"
          ]
        }
      ],
      "source": [
        "import numpy as np\n",
        "arr = np.array([[[1,2,3],[4,5,6]],[[1,2,3],[4,5,6]]])\n",
        "print(arr.shape)\n",
        "for x in arr:\n",
        "    for y in x:\n",
        "    #     for z in y:\n",
        "            print(y)"
      ]
    },
    {
      "cell_type": "code",
      "execution_count": null,
      "metadata": {
        "colab": {
          "base_uri": "https://localhost:8080/"
        },
        "id": "LeYEiQrzHhDJ",
        "outputId": "ae4b3e21-dcbd-4eb3-9785-d8173cfb4bf2"
      },
      "outputs": [
        {
          "name": "stdout",
          "output_type": "stream",
          "text": [
            "1\n",
            "2\n",
            "3\n",
            "4\n",
            "5\n",
            "6\n",
            "1\n",
            "2\n",
            "3\n",
            "4\n",
            "5\n",
            "6\n"
          ]
        }
      ],
      "source": [
        "arr = np.array([[[1,2,3],[4,5,6]],[[1,2,3],[4,5,6]]])\n",
        "for x in np.nditer(arr):\n",
        "  # nditer function is helping us to iterate through the array in a very efficient way.\n",
        "    print(x)"
      ]
    },
    {
      "cell_type": "code",
      "execution_count": 2,
      "metadata": {
        "colab": {
          "base_uri": "https://localhost:8080/"
        },
        "id": "I4MA766xH05I",
        "outputId": "9f3e837f-e9fe-45dd-b926-fac9db81a131"
      },
      "outputs": [
        {
          "name": "stdout",
          "output_type": "stream",
          "text": [
            "1\n",
            "3\n",
            "4\n",
            "6\n"
          ]
        }
      ],
      "source": [
        "arr = np.array([[1,2,3,9],[4,5,6,8]])\n",
        "for x in np.nditer(arr[:,::2]):\n",
        "  # nditer function is helping us to iterate through the array in a very efficient way.\n",
        "    print(x)"
      ]
    },
    {
      "cell_type": "code",
      "execution_count": null,
      "metadata": {
        "colab": {
          "base_uri": "https://localhost:8080/"
        },
        "id": "bjeWDR2SJQpj",
        "outputId": "a8b2e6cb-a1f7-4a09-8736-b7fd6e737e6a"
      },
      "outputs": [
        {
          "name": "stdout",
          "output_type": "stream",
          "text": [
            "(0, 0, 0) 1\n",
            "(0, 0, 1) 2\n",
            "(0, 0, 2) 3\n",
            "(0, 1, 0) 4\n",
            "(0, 1, 1) 5\n",
            "(0, 1, 2) 6\n",
            "(1, 0, 0) 1\n",
            "(1, 0, 1) 2\n",
            "(1, 0, 2) 3\n",
            "(1, 1, 0) 4\n",
            "(1, 1, 1) 5\n",
            "(1, 1, 2) 6\n"
          ]
        }
      ],
      "source": [
        "arr = np.array([[[1,2,3],[4,5,6]],[[1,2,3],[4,5,6]]])\n",
        "for idx,x in np.ndenumerate(arr):\n",
        "    print(idx,x)\n",
        "# this ndenumerate prints the indexing position"
      ]
    },
    {
      "cell_type": "code",
      "execution_count": null,
      "metadata": {
        "colab": {
          "base_uri": "https://localhost:8080/"
        },
        "id": "XJduXtJQKXxA",
        "outputId": "5c768719-33cf-4f66-9eb1-30dfeb67aecc"
      },
      "outputs": [
        {
          "name": "stdout",
          "output_type": "stream",
          "text": [
            "<numpy.ndenumerate object at 0x000001E43411A3C0>\n"
          ]
        }
      ],
      "source": [
        "arr=np.array([[1,2,3,9],[4,5,6,8]])\n",
        "\n",
        "for idx,x in np.ndenumerate(arr):\n",
        "    print(idx,x)\n",
        "# this ndenumerate prints the indexing position"
      ]
    },
    {
      "cell_type": "code",
      "execution_count": null,
      "metadata": {
        "colab": {
          "base_uri": "https://localhost:8080/"
        },
        "id": "T5qSS62iKyzH",
        "outputId": "1ca80bdb-fcd9-47f8-a4d2-27bc11335d54"
      },
      "outputs": [
        {
          "name": "stdout",
          "output_type": "stream",
          "text": [
            "[1 2 3 9 1 2 3 9]\n"
          ]
        }
      ],
      "source": [
        "arr1=np.array([1,2,3,9])\n",
        "arr2=np.array([1,2,3,9])\n",
        "arr=np.concatenate((arr1,arr2))\n",
        "print(arr)\n",
        "# concatenate function is used to join two arrays"
      ]
    },
    {
      "cell_type": "code",
      "execution_count": null,
      "metadata": {
        "colab": {
          "base_uri": "https://localhost:8080/"
        },
        "id": "Z9oZlWrRG7rS",
        "outputId": "90ce4365-f081-494b-9041-411a9ed86da1"
      },
      "outputs": [
        {
          "name": "stdout",
          "output_type": "stream",
          "text": [
            "(2, 2, 3)\n",
            "[[1 2 3]\n",
            " [4 5 6]]\n",
            "[[1 2 3]\n",
            " [4 5 6]]\n"
          ]
        }
      ],
      "source": [
        "import numpy as np\n",
        "arr = np.array([[[1,2,3],[4,5,6]],[[1,2,3],[4,5,6]]])\n",
        "print(arr.shape)\n",
        "for x in arr:\n",
        "    # for y in x:\n",
        "    # #     for z in y:\n",
        "            print(x)"
      ]
    },
    {
      "cell_type": "code",
      "execution_count": null,
      "metadata": {
        "colab": {
          "base_uri": "https://localhost:8080/"
        },
        "id": "g5CbRR2SGlVJ",
        "outputId": "c3cb428c-7f15-44ab-97c7-152e67d2fac6"
      },
      "outputs": [
        {
          "name": "stdout",
          "output_type": "stream",
          "text": [
            "(2, 2, 3)\n",
            "1\n",
            "2\n",
            "3\n",
            "4\n",
            "5\n",
            "6\n",
            "1\n",
            "2\n",
            "3\n",
            "4\n",
            "5\n",
            "6\n"
          ]
        }
      ],
      "source": [
        "import numpy as np\n",
        "arr = np.array([[[1,2,3],[4,5,6]],[[1,2,3],[4,5,6]]])\n",
        "print(arr.shape)\n",
        "for x in arr:\n",
        "    for y in x:\n",
        "        for z in y:\n",
        "            print(z)"
      ]
    }
  ],
  "metadata": {
    "colab": {
      "provenance": []
    },
    "kernelspec": {
      "display_name": "Python 3",
      "name": "python3"
    },
    "language_info": {
      "codemirror_mode": {
        "name": "ipython",
        "version": 3
      },
      "file_extension": ".py",
      "mimetype": "text/x-python",
      "name": "python",
      "nbconvert_exporter": "python",
      "pygments_lexer": "ipython3",
      "version": "3.12.10"
    }
  },
  "nbformat": 4,
  "nbformat_minor": 0
}
