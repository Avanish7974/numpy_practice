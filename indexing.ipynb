{
  "cells": [
    {
      "cell_type": "code",
      "execution_count": 6,
      "metadata": {
        "colab": {
          "base_uri": "https://localhost:8080/"
        },
        "id": "ltKxOfyxex-f",
        "outputId": "cfec72a5-acaf-4afe-cb3e-b21b6a906820"
      },
      "outputs": [
        {
          "name": "stdout",
          "output_type": "stream",
          "text": [
            "(array([4, 6]),)\n",
            "(array([0, 0, 1]), array([4, 6, 2]))\n",
            "(array([1, 1]), array([4, 6]))\n"
          ]
        }
      ],
      "source": [
        "import numpy as np\n",
        "arr0 = np.array([1,2,3,4,5,6,5,8])\n",
        "arr = np.array([[1,2,3,4,5,6,5,8],[10,20,5,40,50,60,50,80]])\n",
        "\n",
        "# here where function is use to find the index of the element in the array\n",
        "z = np.where(arr0==5)\n",
        "print(z)\n",
        "x=np.where(arr==5)\n",
        "# the output of this is (array([0, 0, 1]), array([4, 6, 2])) # 0th row, 4th column, 2nd row, 6th column\n",
        "y=np.where(arr==50)\n",
        "print(x)\n",
        "print(y)"
      ]
    },
    {
      "cell_type": "code",
      "execution_count": null,
      "metadata": {
        "colab": {
          "base_uri": "https://localhost:8080/"
        },
        "id": "LKUfDrcMhErr",
        "outputId": "5d25a7e7-5dbd-4329-899f-258d17beb815"
      },
      "outputs": [
        {
          "name": "stdout",
          "output_type": "stream",
          "text": [
            "(array([1, 3, 5, 7]),)\n",
            "[2 4 6 8]\n"
          ]
        }
      ],
      "source": [
        "import numpy as np\n",
        "arr = np.array([1,2,3,4,5,6,5,8])\n",
        "x=np.where(arr%2==0)\n",
        "print(x)\n",
        "# here arr[x] prints the element of the array\n",
        "print(arr[x])"
      ]
    },
    {
      "cell_type": "code",
      "execution_count": null,
      "metadata": {
        "colab": {
          "base_uri": "https://localhost:8080/"
        },
        "id": "5DrFG4lEhtii",
        "outputId": "5ac0a5dc-067e-472d-eda4-c35151e2e353"
      },
      "outputs": [
        {
          "name": "stdout",
          "output_type": "stream",
          "text": [
            "(array([1, 3, 5, 7]),)\n",
            "[2 4 6 8]\n",
            "4\n"
          ]
        }
      ],
      "source": [
        "import numpy as np\n",
        "arr = np.array([1,2,3,4,5,6,5,8])\n",
        "x=np.where(arr%2==0)\n",
        "print(x)\n",
        "print(arr[x])\n",
        "# here len prints the length of the array\n",
        "print(len(arr[x]))"
      ]
    },
    {
      "cell_type": "code",
      "execution_count": null,
      "metadata": {
        "colab": {
          "base_uri": "https://localhost:8080/"
        },
        "id": "30YVYyq6i1wY",
        "outputId": "fac5a4ca-f691-44e6-e3f2-3474869999b7"
      },
      "outputs": [
        {
          "name": "stdout",
          "output_type": "stream",
          "text": [
            "[ 1  3  5  6 22 45 58 88]\n"
          ]
        }
      ],
      "source": [
        "import numpy as np\n",
        "arr = np.array([1,22,3,45,58,6,5,88])\n",
        "# np.sort sort the array in ascending order\n",
        "print(np.sort(arr))"
      ]
    },
    {
      "cell_type": "code",
      "execution_count": null,
      "metadata": {
        "colab": {
          "base_uri": "https://localhost:8080/"
        },
        "id": "O_L2Ay87jSq1",
        "outputId": "7f37335c-c15d-4bb3-db42-9d095df30859"
      },
      "outputs": [
        {
          "name": "stdout",
          "output_type": "stream",
          "text": [
            "[88 58 45 22  6  5  3  1]\n",
            "[ 1 22  3 45 58  6  5 88]\n"
          ]
        }
      ],
      "source": [
        "import numpy as np\n",
        "\n",
        "arr = np.array([1, 22, 3, 45, 58, 6, 5, 88])\n",
        "sorted_desc = np.sort(arr)[::-1]  # Sort ascending, then reverse\n",
        "print(sorted_desc)\n",
        "print(arr)\n"
      ]
    },
    {
      "cell_type": "code",
      "execution_count": null,
      "metadata": {
        "colab": {
          "base_uri": "https://localhost:8080/"
        },
        "id": "j7uLyZSTjUkt",
        "outputId": "7bbace41-370e-4053-b4e4-db3961f75351"
      },
      "outputs": [
        {
          "name": "stdout",
          "output_type": "stream",
          "text": [
            "[[ 1  3 22 45]\n",
            " [ 5  6 58 88]]\n",
            "Shape: (2, 4)\n"
          ]
        }
      ],
      "source": [
        "# this is the sorting of 2d array row wise\n",
        "arr = np.array([[1, 22, 3, 45],[ 58, 6, 5, 88]])\n",
        "print(np.sort(arr))\n",
        "print(\"Shape:\", arr.shape)"
      ]
    },
    {
      "cell_type": "code",
      "execution_count": null,
      "metadata": {
        "colab": {
          "base_uri": "https://localhost:8080/"
        },
        "id": "jjheAyfslEuh",
        "outputId": "79d32edb-243e-407d-ab76-8c06a2dfe5e7"
      },
      "outputs": [
        {
          "name": "stdout",
          "output_type": "stream",
          "text": [
            "[False  True  True]\n"
          ]
        }
      ],
      "source": [
        "arr = np.array([True,False,True])\n",
        "print(np.sort(arr))\n"
      ]
    },
    {
      "cell_type": "code",
      "execution_count": null,
      "metadata": {
        "id": "ehm869X9lvOJ"
      },
      "outputs": [],
      "source": [
        "arr=np.array([1,2,3,4,5,6,7])\n"
      ]
    },
    {
      "cell_type": "code",
      "execution_count": null,
      "metadata": {
        "colab": {
          "base_uri": "https://localhost:8080/"
        },
        "id": "ney9DxOKksg2",
        "outputId": "75561ea4-4a00-4842-cfd4-0b25b1e82125"
      },
      "outputs": [
        {
          "name": "stdout",
          "output_type": "stream",
          "text": [
            "[[[ 1  2  5  6]\n",
            "  [ 5  6 58 88]]\n",
            "\n",
            " [[ 1  3 22 45]\n",
            "  [ 5  6 58 88]]]\n",
            "Shape: (2, 2, 4)\n"
          ]
        }
      ],
      "source": [
        "arr = np.array([[[1, 22, 3, 45],[ 58, 6, 5, 88]],[[2,1,5,6],[ 58, 6, 5, 88]]])\n",
        "print(np.sort(arr))\n",
        "sorted_desc = np.sort(arr)[::-1]  # Sort ascending, then reverse in three dimension\n",
        "print(sorted_desc)\n",
        "print(\"Shape:\", arr.shape)"
      ]
    },
    {
      "cell_type": "code",
      "execution_count": null,
      "metadata": {
        "colab": {
          "base_uri": "https://localhost:8080/"
        },
        "id": "f8WbnyqWoeID",
        "outputId": "854e7bca-1925-47ec-a5ea-0607d2470194"
      },
      "outputs": [
        {
          "name": "stdout",
          "output_type": "stream",
          "text": [
            "[[0. 1. 2.]\n",
            " [3. 4. 5.]\n",
            " [6. 7. 8.]]\n",
            "[2. 2. 2.]\n",
            "[[ 2.  3.  4.]\n",
            " [ 5.  6.  7.]\n",
            " [ 8.  9. 10.]]\n"
          ]
        }
      ],
      "source": [
        "x1 = np.arange(9.0).reshape((3, 3))\n",
        "x2 = np.arange(3.0)\n",
        "print(x1)\n",
        "print(x2)\n",
        "print(np.add(x1, x2))"
      ]
    },
    {
      "cell_type": "code",
      "execution_count": null,
      "metadata": {
        "colab": {
          "base_uri": "https://localhost:8080/"
        },
        "id": "89QHf9JtpwAk",
        "outputId": "e34dcd34-df50-450a-93e9-5b326dd46326"
      },
      "outputs": [
        {
          "name": "stdout",
          "output_type": "stream",
          "text": [
            "[1. 1. 1.]\n",
            "[[1. 1. 1.]\n",
            " [1. 1. 1.]\n",
            " [1. 1. 1.]]\n",
            "[2. 2. 2.]\n"
          ]
        }
      ],
      "source": [
        "import numpy as np\n",
        "# ones function prints the array of ones\n",
        "n = np.ones(3)\n",
        "print(n)\n",
        "# here it print in 2 dimension one\n",
        "o = np.ones((3, 3))\n",
        "print(o)\n",
        "n = 2*np.ones(3)\n",
        "print(n)\n"
      ]
    },
    {
      "cell_type": "code",
      "execution_count": null,
      "metadata": {
        "colab": {
          "base_uri": "https://localhost:8080/"
        },
        "id": "-NfEp8XRkoxa",
        "outputId": "babef9e8-f359-4ddd-f397-00ae899c3cb7"
      },
      "outputs": [
        {
          "name": "stdout",
          "output_type": "stream",
          "text": [
            "[[ 1  6  3 45]\n",
            " [58 22  5 88]]\n"
          ]
        }
      ],
      "source": [
        "import numpy as np\n",
        "\n",
        "arr = np.array([[1, 22, 3, 45], [58, 6, 5, 88]])\n",
        "sorted_arr = np.sort(arr, axis=0)  # Sorts column-wise\n",
        "print(sorted_arr)\n"
      ]
    }
  ],
  "metadata": {
    "colab": {
      "provenance": []
    },
    "kernelspec": {
      "display_name": "Python 3",
      "name": "python3"
    },
    "language_info": {
      "codemirror_mode": {
        "name": "ipython",
        "version": 3
      },
      "file_extension": ".py",
      "mimetype": "text/x-python",
      "name": "python",
      "nbconvert_exporter": "python",
      "pygments_lexer": "ipython3",
      "version": "3.12.10"
    }
  },
  "nbformat": 4,
  "nbformat_minor": 0
}
