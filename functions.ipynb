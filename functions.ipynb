{
  "nbformat": 4,
  "nbformat_minor": 0,
  "metadata": {
    "colab": {
      "provenance": []
    },
    "kernelspec": {
      "name": "python3",
      "display_name": "Python 3"
    },
    "language_info": {
      "name": "python"
    }
  },
  "cells": [
    {
      "cell_type": "code",
      "execution_count": null,
      "metadata": {
        "colab": {
          "base_uri": "https://localhost:8080/"
        },
        "id": "QpzAnqSmvHMK",
        "outputId": "487de2f1-aea3-4684-df88-529ad79516f8"
      },
      "outputs": [
        {
          "output_type": "stream",
          "name": "stdout",
          "text": [
            "Original array :  [12  3  4  5  6]\n",
            "assigned array :  [12  3  4  5  6]\n",
            "(5,)\n"
          ]
        }
      ],
      "source": [
        "import numpy as np\n",
        "arr = np.array([2,3,4,5,6])\n",
        "nc = arr\n",
        "nc[0] = 12\n",
        "# here all original and copy array are same but by using copy function only copiyed array change\n",
        "# printing the values\n",
        "print(\"Original array : \",arr)\n",
        "print(\"assigned array : \",nc)\n",
        "print(arr.shape)"
      ]
    },
    {
      "cell_type": "code",
      "source": [
        "import numpy as np\n",
        "\n",
        "# joining array using stack function\n",
        "arr1 = np.array([1, 2, 3])\n",
        "arr2 = np.array([4, 5, 6])\n",
        "arr = np.stack((arr1, arr2))\n",
        "print(arr) # Output: [1 2 3 4 5 6]\n",
        "arr = np.stack((arr1, arr2),axis=1)\n",
        "print(arr)"
      ],
      "metadata": {
        "colab": {
          "base_uri": "https://localhost:8080/"
        },
        "id": "OMcfuT16QQHc",
        "outputId": "448de1a7-7efd-46e5-cf6a-46c737fcc74d"
      },
      "execution_count": null,
      "outputs": [
        {
          "output_type": "stream",
          "name": "stdout",
          "text": [
            "[[1 2 3]\n",
            " [4 5 6]]\n",
            "[[1 4]\n",
            " [2 5]\n",
            " [3 6]]\n"
          ]
        }
      ]
    },
    {
      "cell_type": "code",
      "source": [
        "import numpy as np\n",
        "\n",
        "# joining array using hstack function\n",
        "arr1 = np.array([1, 2, 3])\n",
        "arr2 = np.array([4, 5, 6])\n",
        "arr = np.hstack((arr1, arr2))\n",
        "# hstack function is use to join the array in horizontal direction\n",
        "print(arr)\n"
      ],
      "metadata": {
        "colab": {
          "base_uri": "https://localhost:8080/"
        },
        "id": "9Sp6t_nnTDeA",
        "outputId": "5d98d24b-27e6-4591-9ba2-223accf4ad16"
      },
      "execution_count": null,
      "outputs": [
        {
          "output_type": "stream",
          "name": "stdout",
          "text": [
            "[1 2 3 4 5 6]\n"
          ]
        }
      ]
    },
    {
      "cell_type": "code",
      "source": [
        "import numpy as np\n",
        "\n",
        "# joining array using vstack function\n",
        "arr1 = np.array([1, 2, 3])\n",
        "arr2 = np.array([4, 5, 6])\n",
        "arr = np.vstack((arr1, arr2))\n",
        "# vstack function is use to join the array in vertical direction\n",
        "print(arr)\n"
      ],
      "metadata": {
        "colab": {
          "base_uri": "https://localhost:8080/"
        },
        "id": "KEMttNrSTMg-",
        "outputId": "6afbaabc-342f-4f3e-f511-9385c0741dd4"
      },
      "execution_count": null,
      "outputs": [
        {
          "output_type": "stream",
          "name": "stdout",
          "text": [
            "[[1 2 3]\n",
            " [4 5 6]]\n"
          ]
        }
      ]
    },
    {
      "cell_type": "code",
      "source": [
        "import numpy as np\n",
        "# joining array using stack function\n",
        "arr1 = np.array([1, 2, 3])\n",
        "arr2 = np.array([4, 5, 6])\n",
        "arr = np.stack((arr1, arr2))\n",
        "print(arr) # Output: [1 2 3 4 5 6]\n",
        "arr = np.stack((arr1, arr2),axis=1)\n",
        "print(arr)"
      ],
      "metadata": {
        "id": "j8Y1fIHjS7lB"
      },
      "execution_count": null,
      "outputs": []
    },
    {
      "cell_type": "code",
      "source": [
        "import numpy as np\n",
        "\n",
        "# Example using numpy.append\n",
        "arr1 = np.array([1, 2, 3])\n",
        "arr2 = np.array([4, 5, 6])\n",
        "arr = np.stack((arr1, arr2))\n",
        "# stack function is use to join the array\n",
        "print(arr) # Output: [1 2 3 4 5 6]\n",
        "arr = np.stack((arr1, arr2),axis=0)\n",
        "print(arr)"
      ],
      "metadata": {
        "colab": {
          "base_uri": "https://localhost:8080/"
        },
        "id": "HXk6hwwrRbMz",
        "outputId": "6c305929-2183-4f17-8371-d08b566deb1f"
      },
      "execution_count": null,
      "outputs": [
        {
          "output_type": "stream",
          "name": "stdout",
          "text": [
            "[[1 2 3]\n",
            " [4 5 6]]\n",
            "[[1 2 3]\n",
            " [4 5 6]]\n"
          ]
        }
      ]
    },
    {
      "cell_type": "code",
      "source": [
        "import numpy as np\n",
        "arr = np.array([1, 2, 3])\n",
        "# append basically adds the elements in array  at last of the array\n",
        "new_arr = np.append(arr,[4, 5, 6] )\n",
        "# but here single element add without bracket\n",
        "new1_arr = np.append(arr,99 )\n",
        "print(new_arr)  # Output: [1 2 3 4 5 6]\n",
        "print(new1_arr)  # Output: [1 2 3 99]\n",
        "# append means add the element at last of the array"
      ],
      "metadata": {
        "colab": {
          "base_uri": "https://localhost:8080/"
        },
        "id": "1UHIzaIBxQMt",
        "outputId": "60952825-df93-4856-9844-849f70a58402"
      },
      "execution_count": null,
      "outputs": [
        {
          "output_type": "stream",
          "name": "stdout",
          "text": [
            "[1 2 3 4 5 6]\n",
            "[ 1  2  3 99]\n"
          ]
        }
      ]
    },
    {
      "cell_type": "code",
      "source": [
        "import numpy as np\n",
        "ar = np.array([2,3,4,5,6])\n",
        "# copy function is use to copy the array\n",
        "c = ar.copy()\n",
        "c[0] = 12\n",
        "# printing the values\n",
        "print(\"Original array : \",ar)\n",
        "print(\"assigned array : \",c)"
      ],
      "metadata": {
        "colab": {
          "base_uri": "https://localhost:8080/"
        },
        "id": "SEmSZIniv_gq",
        "outputId": "972b000c-f3f0-401f-a0ee-5658192cf9c5"
      },
      "execution_count": null,
      "outputs": [
        {
          "output_type": "stream",
          "name": "stdout",
          "text": [
            "Original array :  [2 3 4 5 6]\n",
            "assigned array :  [12  3  4  5  6]\n"
          ]
        }
      ]
    },
    {
      "cell_type": "code",
      "source": [
        "# this is the program by which to array is add\n",
        "import numpy as np\n",
        "arr2 = np.array([2,3,4,5,6])\n",
        "print(\"Original array : \",arr2)\n",
        "# appending to the array\n",
        "arr3 =np.array([7,8,9])\n",
        "arr1 = np.append(arr2,arr3)\n",
        "print(\"New array : \",arr1)"
      ],
      "metadata": {
        "colab": {
          "base_uri": "https://localhost:8080/"
        },
        "id": "0hdCZzZv2FAa",
        "outputId": "5e2e2a86-4539-4d02-9d22-4050951ae2fd"
      },
      "execution_count": null,
      "outputs": [
        {
          "output_type": "stream",
          "name": "stdout",
          "text": [
            "Original array :  [2 3 4 5 6]\n",
            "New array :  [2 3 4 5 6 7 8 9]\n"
          ]
        }
      ]
    },
    {
      "cell_type": "code",
      "source": [
        "import numpy as np\n",
        "ar2= np.array([2,3,4,5,6])\n",
        "#  view function provides a new way of looking at the same data without creating a copy.\n",
        "cd = ar2.view()\n",
        "cd[0] = 12\n",
        "# printing the values\n",
        "print(\"Original array : \",ar2)\n",
        "print(\"assigned array : \",cd)"
      ],
      "metadata": {
        "colab": {
          "base_uri": "https://localhost:8080/"
        },
        "id": "8ME6T2caxebP",
        "outputId": "1d853299-e7cb-43d3-f999-411a8cbf50fb"
      },
      "execution_count": null,
      "outputs": [
        {
          "output_type": "stream",
          "name": "stdout",
          "text": [
            "Original array :  [12  3  4  5  6]\n",
            "assigned array :  [12  3  4  5  6]\n"
          ]
        }
      ]
    },
    {
      "cell_type": "code",
      "source": [
        "a = np.array([1,2,3])\n",
        "a[1]=5\n",
        "print(a)"
      ],
      "metadata": {
        "colab": {
          "base_uri": "https://localhost:8080/"
        },
        "id": "E0S63Bhq0pxl",
        "outputId": "bee2c430-4fc1-4dd6-b2d7-dcca02ab921b"
      },
      "execution_count": null,
      "outputs": [
        {
          "output_type": "stream",
          "name": "stdout",
          "text": [
            "[1 5 3]\n"
          ]
        }
      ]
    },
    {
      "cell_type": "code",
      "source": [
        "# here we access the every element of the array\n",
        "arr = np.array([1,2,3])\n",
        "for x in arr:\n",
        "    print(x)"
      ],
      "metadata": {
        "colab": {
          "base_uri": "https://localhost:8080/"
        },
        "id": "TSzMXNWq3W7c",
        "outputId": "e2a1c781-9c6a-4b71-95a1-4accd6033fdd"
      },
      "execution_count": null,
      "outputs": [
        {
          "output_type": "stream",
          "name": "stdout",
          "text": [
            "1\n",
            "2\n",
            "3\n"
          ]
        }
      ]
    },
    {
      "cell_type": "code",
      "source": [
        "from typing import Concatenate\n",
        "import numpy as np\n",
        "\n",
        "# Example using numpy.append\n",
        "arr1 = np.array([1, 2, 3])\n",
        "arr2 = np.array([4, 5, 6])\n",
        "result_append = np.append(arr1, arr2)\n",
        "print(result_append) # Output: [1 2 3 4 5 6]\n",
        "\n",
        "# Example using numpy.concatenate\n",
        "arr3 = np.array([[1, 2], [3, 4]])\n",
        "arr4 = np.array([[5, 6], [7, 8]])\n",
        "result_concat = np.concatenate((arr3, arr4), axis=1)\n",
        "# concantenate function is use to join the array\n",
        "print(result_concat)\n",
        "# Output:\n",
        "# [[1 2]\n",
        "#  [3 4]\n",
        "#  [5 6]\n",
        "#  [7 8]]\n",
        "#  know the main difference in append and Concatenate is"
      ],
      "metadata": {
        "colab": {
          "base_uri": "https://localhost:8080/"
        },
        "id": "WbwKNtfNMDuR",
        "outputId": "c156af86-4681-4d7d-ad36-c8c854bed969"
      },
      "execution_count": null,
      "outputs": [
        {
          "output_type": "stream",
          "name": "stdout",
          "text": [
            "[1 2 3 4 5 6]\n",
            "[[1 2 5 6]\n",
            " [3 4 7 8]]\n"
          ]
        }
      ]
    },
    {
      "cell_type": "code",
      "source": [
        "from typing import Concatenate\n",
        "import numpy as np\n",
        "\n",
        "# Example using numpy.append\n",
        "arr1 = np.array([1, 2, 3])\n",
        "arr2 = np.array([4, 5, 6])\n",
        "result_append = np.append(arr1, arr2)\n",
        "print(result_append) # Output: [1 2 3 4 5 6]\n",
        "\n",
        "# Example using numpy.concatenate\n",
        "arr3 = np.array([[1, 2], [3, 4]])\n",
        "arr4 = np.array([[5, 6], [7, 8]])\n",
        "result_concat = np.concatenate((arr3, arr4),axis = 0)\n",
        "print(result_concat)\n",
        "# Output:\n",
        "# [[1 2]\n",
        "#  [3 4]\n",
        "#  [5 6]\n",
        "#  [7 8]]\n",
        "#  know the main difference in append and Concatenate is"
      ],
      "metadata": {
        "colab": {
          "base_uri": "https://localhost:8080/"
        },
        "id": "0igfK0TIM-SW",
        "outputId": "286e0c0d-6df1-4e05-bf78-825d10676fbc"
      },
      "execution_count": null,
      "outputs": [
        {
          "output_type": "stream",
          "name": "stdout",
          "text": [
            "[1 2 3 4 5 6]\n",
            "[[1 2]\n",
            " [3 4]\n",
            " [5 6]\n",
            " [7 8]]\n"
          ]
        }
      ]
    },
    {
      "cell_type": "code",
      "source": [
        "# this loop works in one by one\n",
        "arr = np.array([[1,2,3],[4,5,6]])\n",
        "for x in arr:\n",
        "    print(x)\n",
        "# here this loop in only works in on\n",
        "arr = np.array([[1,2,3],[4,5,6]])\n",
        "for x in arr:\n",
        "  for y in x:\n",
        "    print(y)"
      ],
      "metadata": {
        "colab": {
          "base_uri": "https://localhost:8080/"
        },
        "id": "8T1gRFV637TS",
        "outputId": "60f5a6c0-3c74-4d6b-e33a-19f10b1a13ec"
      },
      "execution_count": null,
      "outputs": [
        {
          "output_type": "stream",
          "name": "stdout",
          "text": [
            "[1 2 3]\n",
            "[4 5 6]\n",
            "1\n",
            "2\n",
            "3\n",
            "4\n",
            "5\n",
            "6\n"
          ]
        }
      ]
    }
  ]
}