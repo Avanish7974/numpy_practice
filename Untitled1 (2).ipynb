{
  "cells": [
    {
      "cell_type": "code",
      "execution_count": null,
      "metadata": {
        "colab": {
          "base_uri": "https://localhost:8080/"
        },
        "id": "R30Kdgn_hzeN",
        "outputId": "8214bc6f-fef6-486d-80ae-c3eb3028ec8b"
      },
      "outputs": [
        {
          "name": "stdout",
          "output_type": "stream",
          "text": [
            "[ 1.  2.  3.  4.  5.  6.  7.  8.  9. 10.]\n"
          ]
        }
      ],
      "source": [
        "import numpy as np\n",
        "# linespace function is use to\n",
        "a = np.linspace(1,10,10)\n",
        "print(a)"
      ]
    },
    {
      "cell_type": "code",
      "execution_count": null,
      "metadata": {
        "colab": {
          "base_uri": "https://localhost:8080/"
        },
        "id": "58W6DfXMjZNu",
        "outputId": "a7c467de-9616-4ee2-8d91-ff2026e3c290"
      },
      "outputs": [
        {
          "name": "stdout",
          "output_type": "stream",
          "text": [
            "[ 1.  2.  3.  4.  5.  6.  7.  8.  9. 10.]\n"
          ]
        }
      ],
      "source": [
        "import numpy as np\n",
        "a = np.linspace(1,10,10)\n",
        "print(a)"
      ]
    },
    {
      "cell_type": "code",
      "execution_count": null,
      "metadata": {
        "colab": {
          "base_uri": "https://localhost:8080/"
        },
        "id": "oA720lshjg1B",
        "outputId": "eb71dfc0-4ecc-495d-f66c-86c373f91c1e"
      },
      "outputs": [
        {
          "name": "stdout",
          "output_type": "stream",
          "text": [
            "[ 1.  2.  3.  4.  5.  6.  7.  8.  9. 10.]\n",
            "[1.    1.125 1.25  1.375 1.5   1.625 1.75  1.875 2.   ]\n"
          ]
        }
      ],
      "source": [
        "import numpy as np\n",
        "a = np.linspace(1,10,10)\n",
        "print(a)\n",
        "a = np.linspace(1,2,9)\n",
        "print(a)"
      ]
    },
    {
      "cell_type": "code",
      "execution_count": null,
      "metadata": {
        "colab": {
          "base_uri": "https://localhost:8080/"
        },
        "id": "tJoJqEyOj_QP",
        "outputId": "d7a3030b-352c-40bf-c17b-eb05c7ec4fd3"
      },
      "outputs": [
        {
          "name": "stdout",
          "output_type": "stream",
          "text": [
            "[0. 0. 0.]\n",
            "[[0. 0. 0. 0. 0.]\n",
            " [0. 0. 0. 0. 0.]\n",
            " [0. 0. 0. 0. 0.]]\n"
          ]
        }
      ],
      "source": [
        "e=np.zeros(3)\n",
        "print(e)\n",
        "d=np.zeros((3,5))\n",
        "print(d)"
      ]
    },
    {
      "cell_type": "code",
      "execution_count": null,
      "metadata": {
        "colab": {
          "base_uri": "https://localhost:8080/"
        },
        "id": "n34iaSLalJDQ",
        "outputId": "e0f5e223-2d96-4369-a958-023059e8ea13"
      },
      "outputs": [
        {
          "name": "stdout",
          "output_type": "stream",
          "text": [
            "[1. 1. 1.]\n",
            "[[[[1. 1. 1. 1.]\n",
            "   [1. 1. 1. 1.]\n",
            "   [1. 1. 1. 1.]]\n",
            "\n",
            "  [[1. 1. 1. 1.]\n",
            "   [1. 1. 1. 1.]\n",
            "   [1. 1. 1. 1.]]]]\n"
          ]
        }
      ],
      "source": [
        "e=np.ones(3)\n",
        "print(e)\n",
        "d=np.ones((2,3,4))\n",
        "print(d)"
      ]
    },
    {
      "cell_type": "code",
      "execution_count": null,
      "metadata": {
        "colab": {
          "base_uri": "https://localhost:8080/"
        },
        "id": "t9NLUa4LkuIs",
        "outputId": "02eb28db-6774-44ca-f878-165f108e3641"
      },
      "outputs": [
        {
          "name": "stdout",
          "output_type": "stream",
          "text": [
            "[[1. 0. 0. 0. 0.]\n",
            " [0. 1. 0. 0. 0.]\n",
            " [0. 0. 1. 0. 0.]\n",
            " [0. 0. 0. 1. 0.]\n",
            " [0. 0. 0. 0. 1.]]\n"
          ]
        }
      ],
      "source": [
        "a=np.eye(5)\n",
        "print(a)"
      ]
    },
    {
      "cell_type": "code",
      "execution_count": null,
      "metadata": {
        "colab": {
          "base_uri": "https://localhost:8080/"
        },
        "id": "opXNYGGXmPb4",
        "outputId": "6e9d2e20-67fa-49e1-9f30-cc66cfe51f0e"
      },
      "outputs": [
        {
          "name": "stdout",
          "output_type": "stream",
          "text": [
            "[[2.02907553e-315 0.00000000e+000 0.00000000e+000 0.00000000e+000]\n",
            " [0.00000000e+000 0.00000000e+000 0.00000000e+000 0.00000000e+000]\n",
            " [0.00000000e+000 0.00000000e+000 0.00000000e+000 0.00000000e+000]]\n"
          ]
        }
      ],
      "source": [
        "# empty is use to genrate random\n",
        "z=np.empty((3,4))\n",
        "print(z)"
      ]
    },
    {
      "cell_type": "code",
      "execution_count": null,
      "metadata": {
        "colab": {
          "base_uri": "https://localhost:8080/"
        },
        "id": "B3kp-vrhnz78",
        "outputId": "1fb52205-dbcd-4ed0-b976-edcdb851f276"
      },
      "outputs": [
        {
          "name": "stdout",
          "output_type": "stream",
          "text": [
            "[0.16835946 0.18112857 0.17387289 0.94177528 0.69636689]\n"
          ]
        }
      ],
      "source": [
        "a=np.random.rand(5)\n",
        "print(a)"
      ]
    },
    {
      "cell_type": "code",
      "execution_count": null,
      "metadata": {
        "colab": {
          "base_uri": "https://localhost:8080/"
        },
        "id": "IAcvoKt4oTBN",
        "outputId": "a6902035-4ba6-4f0c-a679-1149be2225a5"
      },
      "outputs": [
        {
          "name": "stdout",
          "output_type": "stream",
          "text": [
            "[[0.54998439 0.13743084 0.91274762 0.2183739  0.80500222]\n",
            " [0.88492584 0.81970405 0.60366466 0.11570997 0.65029036]\n",
            " [0.46369694 0.3933006  0.78894403 0.7514787  0.45841411]]\n"
          ]
        }
      ],
      "source": [
        "a=np.random.rand(3,5)\n",
        "print(a)"
      ]
    },
    {
      "cell_type": "code",
      "execution_count": null,
      "metadata": {
        "colab": {
          "base_uri": "https://localhost:8080/"
        },
        "id": "jQ-kuD0Fqi3-",
        "outputId": "1aafdfe9-f16f-49b7-d87b-2a22a4a9ae5b"
      },
      "outputs": [
        {
          "name": "stdout",
          "output_type": "stream",
          "text": [
            "[8 5 6 4 5]\n"
          ]
        }
      ],
      "source": [
        "a=np.random.randint(1,10,5)\n",
        "print(a)"
      ]
    },
    {
      "cell_type": "code",
      "execution_count": null,
      "metadata": {
        "colab": {
          "base_uri": "https://localhost:8080/"
        },
        "id": "wuE-LWMLo7jT",
        "outputId": "a88b3ccf-c12a-4127-bdc4-547520000a5c"
      },
      "outputs": [
        {
          "name": "stdout",
          "output_type": "stream",
          "text": [
            "[[[0.09361998 0.79185994 0.31701716 0.58521001 0.4463438 ]\n",
            "  [0.85087889 0.96781808 0.72520792 0.79054453 0.93725132]\n",
            "  [0.93972138 0.54023363 0.99118453 0.73204956 0.74651787]]\n",
            "\n",
            " [[0.8283802  0.93330394 0.4395328  0.17470834 0.06048656]\n",
            "  [0.05062908 0.21660218 0.88705298 0.64247824 0.65924488]\n",
            "  [0.40360318 0.46182129 0.22873479 0.45428515 0.5413316 ]]\n",
            "\n",
            " [[0.43139567 0.48924509 0.08307959 0.23106788 0.05796915]\n",
            "  [0.41499821 0.06218228 0.57370048 0.79724765 0.15120228]\n",
            "  [0.54218416 0.35462034 0.33838438 0.62974346 0.64435024]]\n",
            "\n",
            " [[0.27172591 0.99278857 0.90920548 0.78771253 0.73926539]\n",
            "  [0.76004472 0.64982823 0.93581733 0.99938599 0.48451238]\n",
            "  [0.46729151 0.81676235 0.72422933 0.81656881 0.55594724]]]\n"
          ]
        }
      ],
      "source": [
        "a=np.random.rand(4,3,5)\n",
        "print(a)"
      ]
    },
    {
      "cell_type": "code",
      "execution_count": null,
      "metadata": {
        "colab": {
          "base_uri": "https://localhost:8080/"
        },
        "id": "BlD5bZaVpVzx",
        "outputId": "24142781-a76e-4e67-a6e6-5663a1ce805e"
      },
      "outputs": [
        {
          "name": "stdout",
          "output_type": "stream",
          "text": [
            "1\n"
          ]
        }
      ],
      "source": [
        "# it return n-1\n",
        "a=np.random.randint(2)\n",
        "print(a)"
      ]
    },
    {
      "cell_type": "code",
      "execution_count": null,
      "metadata": {
        "colab": {
          "base_uri": "https://localhost:8080/"
        },
        "id": "4x9rVEmqrFkX",
        "outputId": "722014bc-f227-4e6e-c51b-5b52ceede556"
      },
      "outputs": [
        {
          "name": "stdout",
          "output_type": "stream",
          "text": [
            "[[6 7 7 4]\n",
            " [9 5 2 9]]\n"
          ]
        }
      ],
      "source": [
        "a=np.random.randint(1,10,(2,4))\n",
        "print(a)"
      ]
    },
    {
      "cell_type": "code",
      "execution_count": null,
      "metadata": {
        "colab": {
          "base_uri": "https://localhost:8080/"
        },
        "id": "d0KBxtDTrYsi",
        "outputId": "140efaeb-0020-4886-c5df-f2dff5ca2740"
      },
      "outputs": [
        {
          "name": "stdout",
          "output_type": "stream",
          "text": [
            "[[[1 4 3 7]\n",
            "  [7 9 6 7]\n",
            "  [7 7 9 6]\n",
            "  [3 3 6 2]]\n",
            "\n",
            " [[5 2 3 8]\n",
            "  [4 9 1 7]\n",
            "  [5 3 2 8]\n",
            "  [2 8 7 2]]]\n"
          ]
        }
      ],
      "source": [
        "a=np.random.randint(1,10,(2,4,4))\n",
        "print(a)"
      ]
    },
    {
      "cell_type": "code",
      "execution_count": null,
      "metadata": {
        "colab": {
          "base_uri": "https://localhost:8080/"
        },
        "id": "NmNSZzl9qIuJ",
        "outputId": "d336cb23-1ebc-4acf-8ceb-e0b0c54ce2ff"
      },
      "outputs": [
        {
          "name": "stdout",
          "output_type": "stream",
          "text": [
            "3\n"
          ]
        }
      ],
      "source": [
        "a=np.random.randint(3,5)\n",
        "print(a)"
      ]
    },
    {
      "cell_type": "code",
      "execution_count": null,
      "metadata": {
        "colab": {
          "base_uri": "https://localhost:8080/"
        },
        "id": "VR9_TMPpr4Ye",
        "outputId": "b9daf57c-64bf-4e77-f479-5ae19ae53238"
      },
      "outputs": [
        {
          "name": "stdout",
          "output_type": "stream",
          "text": [
            "[[[[0 0 0 0 0 0]\n",
            "   [0 0 0 0 0 0]\n",
            "   [0 0 0 0 0 0]]\n",
            "\n",
            "  [[0 0 0 0 0 0]\n",
            "   [0 0 0 0 0 0]\n",
            "   [0 0 0 0 0 0]]\n",
            "\n",
            "  [[0 0 0 0 0 0]\n",
            "   [0 0 0 0 0 0]\n",
            "   [0 0 0 0 0 0]]\n",
            "\n",
            "  [[0 0 0 0 0 0]\n",
            "   [0 0 0 0 0 0]\n",
            "   [0 0 0 0 0 0]]]\n",
            "\n",
            "\n",
            " [[[0 0 0 0 0 0]\n",
            "   [0 0 0 0 0 0]\n",
            "   [0 0 0 0 0 0]]\n",
            "\n",
            "  [[0 0 0 0 0 0]\n",
            "   [0 0 0 0 0 0]\n",
            "   [0 0 0 0 0 0]]\n",
            "\n",
            "  [[0 0 0 0 0 0]\n",
            "   [0 0 0 0 0 0]\n",
            "   [0 0 0 0 0 0]]\n",
            "\n",
            "  [[0 0 0 0 0 0]\n",
            "   [0 0 0 0 0 0]\n",
            "   [0 0 0 0 0 0]]]]\n"
          ]
        }
      ],
      "source": [
        "a=np.random.randint(0,1,(2,4,3,6))\n",
        "print(a)"
      ]
    }
  ],
  "metadata": {
    "colab": {
      "provenance": []
    },
    "kernelspec": {
      "display_name": "Python 3",
      "name": "python3"
    },
    "language_info": {
      "name": "python",
      "version": "3.12.10"
    }
  },
  "nbformat": 4,
  "nbformat_minor": 0
}
