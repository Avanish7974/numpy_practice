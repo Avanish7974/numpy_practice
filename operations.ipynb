{
  "nbformat": 4,
  "nbformat_minor": 0,
  "metadata": {
    "colab": {
      "provenance": []
    },
    "kernelspec": {
      "name": "python3",
      "display_name": "Python 3"
    },
    "language_info": {
      "name": "python"
    }
  },
  "cells": [
    {
      "cell_type": "code",
      "execution_count": null,
      "metadata": {
        "colab": {
          "base_uri": "https://localhost:8080/"
        },
        "id": "6awASsgI0Z5S",
        "outputId": "1df79b25-195e-4c49-971b-40fc76e73b0b"
      },
      "outputs": [
        {
          "output_type": "stream",
          "name": "stdout",
          "text": [
            "[0 1 2 3 4 5]\n"
          ]
        },
        {
          "output_type": "execute_result",
          "data": {
            "text/plain": [
              "array([ 0,  2,  4,  6,  8, 10])"
            ]
          },
          "metadata": {},
          "execution_count": 2
        }
      ],
      "source": [
        "import numpy as np\n",
        "a=np.arange(0,6)\n",
        "print(a)\n",
        "# it sum the aray\n",
        "a+a"
      ]
    },
    {
      "cell_type": "code",
      "source": [
        "import numpy as np\n",
        "\n",
        "a = np.arange(3, 6)   # [3, 4, 5]\n",
        "b = np.arange(3, 6)   # [3, 4, 5]\n",
        "\n",
        "# to do addition size of both array should be same\n",
        "print(a)         # Output: [3 4 5]\n",
        "print(b)         # Output: [3 4 5]\n",
        "print(a + b)     # [6 8 10]\n",
        "print(a - b)     # [0 0 0]\n",
        "print(a * b)     # [9 16 25]\n",
        "print(a / b)     # [1. 1. 1.]\n",
        "print(a % b)     # [0 0 0]\n"
      ],
      "metadata": {
        "colab": {
          "base_uri": "https://localhost:8080/"
        },
        "id": "jLkQOR7k0tZo",
        "outputId": "6f1a1ac5-2534-457f-f7ba-8adba88839b8"
      },
      "execution_count": null,
      "outputs": [
        {
          "output_type": "stream",
          "name": "stdout",
          "text": [
            "[3 4 5]\n",
            "[3 4 5]\n",
            "[ 6  8 10]\n",
            "[0 0 0]\n",
            "[ 9 16 25]\n",
            "[1. 1. 1.]\n",
            "[0 0 0]\n"
          ]
        }
      ]
    },
    {
      "cell_type": "code",
      "source": [
        "a=np.arange(5)\n",
        "a**a"
      ],
      "metadata": {
        "colab": {
          "base_uri": "https://localhost:8080/"
        },
        "id": "2o-m8fu304qj",
        "outputId": "6063f9bd-0c06-40e8-c417-3bacb0cf3e37"
      },
      "execution_count": null,
      "outputs": [
        {
          "output_type": "execute_result",
          "data": {
            "text/plain": [
              "array([  1,   1,   4,  27, 256])"
            ]
          },
          "metadata": {},
          "execution_count": 4
        }
      ]
    }
  ]
}