{
  "cells": [
    {
      "cell_type": "code",
      "execution_count": 2,
      "metadata": {
        "colab": {
          "base_uri": "https://localhost:8080/"
        },
        "id": "Fq7nYkpoQJRf",
        "outputId": "ce1a2fc7-3191-49bb-ad22-a805cda2da53"
      },
      "outputs": [
        {
          "name": "stdout",
          "output_type": "stream",
          "text": [
            "[0 1 2 3 4 5 6 7 8 9]\n",
            "[2 4 6]\n"
          ]
        }
      ],
      "source": [
        "import numpy as np\n",
        "a=np.arange(10)\n",
        "print(a)\n",
        "# arange function creates an array of evenly spaced values within a given interval\n",
        "# The function takes three arguments: start, stop, and step\n",
        "b = a[2:7:2]\n",
        "print(b)"
      ]
    },
    {
      "cell_type": "code",
      "execution_count": null,
      "metadata": {
        "colab": {
          "base_uri": "https://localhost:8080/"
        },
        "id": "_agOrjEmdH6j",
        "outputId": "3ab3d5e5-c8ec-4da0-b82e-9db41507c21e"
      },
      "outputs": [
        {
          "name": "stdout",
          "output_type": "stream",
          "text": [
            "[7 6 5 4 3 2 1]\n",
            "[3 2 1]\n",
            "[7 6 5 4]\n",
            "[6 5]\n"
          ]
        }
      ],
      "source": [
        "import numpy as np\n",
        "arr = np.array([1,2,3,4,5,6,7])\n",
        "print(arr[::-1])\n",
        "print(arr[2::-1])\n",
        "print(arr[:2:-1])\n",
        "print(arr[5:3:-1])"
      ]
    },
    {
      "cell_type": "code",
      "execution_count": 3,
      "metadata": {
        "colab": {
          "base_uri": "https://localhost:8080/"
        },
        "id": "z9U5zp5ZQyzx",
        "outputId": "78d96d78-2adb-4228-d880-34b076311121"
      },
      "outputs": [
        {
          "name": "stdout",
          "output_type": "stream",
          "text": [
            "[2 4 6]\n",
            "[1 3 5 7]\n",
            "[1 2 3 4 5 6 7]\n",
            "[7 5 3 1]\n",
            "[5]\n",
            "[]\n"
          ]
        }
      ],
      "source": [
        "arr = np.array([1,2,3,4,5,6,7])\n",
        "print(arr[1:6:2])\n",
        "print(arr[::2])\n",
        "print(arr[::])\n",
        "print(arr[::-2])\n",
        "print(arr[4::4])\n",
        "print(arr[1:1:1])"
      ]
    },
    {
      "cell_type": "code",
      "execution_count": 4,
      "metadata": {
        "colab": {
          "base_uri": "https://localhost:8080/"
        },
        "id": "fV_vxTHofbuy",
        "outputId": "6c90dbe3-be55-48e5-a88b-20b189e50887"
      },
      "outputs": [
        {
          "name": "stdout",
          "output_type": "stream",
          "text": [
            "[]\n"
          ]
        }
      ],
      "source": [
        "arr = np.array([1,2,3,4,5,6,7])\n",
        "print(arr[4:6:-1])"
      ]
    },
    {
      "cell_type": "code",
      "execution_count": 5,
      "metadata": {
        "colab": {
          "base_uri": "https://localhost:8080/"
        },
        "id": "TALybyKBVgBR",
        "outputId": "58f259a0-aa0c-41a5-d042-41c8dcfbd33b"
      },
      "outputs": [
        {
          "name": "stdout",
          "output_type": "stream",
          "text": [
            "[4 5 6]\n",
            "[[3 4 5 6 7]\n",
            " [3 4 5 4 7]]\n",
            "[[7 6 5 4 3]]\n",
            "hlo\n",
            "[[1 2 3 5]\n",
            " [3 4 5 6]]\n",
            "hlo\n",
            "[[2 4]]\n",
            "hlo\n",
            "[[2 3 4]\n",
            " [7 8 9]]\n"
          ]
        }
      ],
      "source": [
        "arr = np.array([[1,2,3,5,4],[3,4,5,6,7],[3,4,5,4,7]])\n",
        "\n",
        "print(arr[1,1:4])\n",
        "print(arr[1:])\n",
        "print(arr[1:2,::-1])\n",
        "print(\"hlo\")\n",
        "arr = np.array([[1,2,3,5,4],[3,4,5,6,7]])\n",
        "print(arr[0:,:4])\n",
        "print(\"hlo\")\n",
        "arr = np.array([[1,2,3,4,5],[6,7,8,9,10]])\n",
        "print(arr[0:2:2,1:4:2])\n",
        "print(\"hlo\")\n",
        "arr = np.array([[1,2,3,4,5],[6,7,8,9,10]])\n",
        "print(arr[0:2,1:4])"
      ]
    },
    {
      "cell_type": "code",
      "execution_count": null,
      "metadata": {
        "colab": {
          "base_uri": "https://localhost:8080/"
        },
        "id": "QRt9yEskjbHt",
        "outputId": "ad007cf8-6eb1-4f5a-92bb-662c3ff7d6eb"
      },
      "outputs": [
        {
          "name": "stdout",
          "output_type": "stream",
          "text": [
            "4\n",
            "[4 4]\n",
            "[4]\n",
            "[[2 4]\n",
            " [4 4]]\n",
            "br\n",
            "[[[1 2]\n",
            "  [3 4]]\n",
            "\n",
            " [[3 4]\n",
            "  [3 4]]]\n"
          ]
        }
      ],
      "source": [
        "arr = np.array([[[1,2,3,5],[3,4,5,67]],[[3,4,5,4],[3,4,5,6]]])\n",
        "print(arr[1,1,1])\n",
        "print(arr[::1,1,1])\n",
        "print(arr[::2,1,1])\n",
        "print(arr[::,::,1])\n",
        "print(\"br\")\n",
        "print(arr[::,::,:2:1])"
      ]
    }
  ],
  "metadata": {
    "colab": {
      "provenance": []
    },
    "kernelspec": {
      "display_name": "Python 3",
      "name": "python3"
    },
    "language_info": {
      "codemirror_mode": {
        "name": "ipython",
        "version": 3
      },
      "file_extension": ".py",
      "mimetype": "text/x-python",
      "name": "python",
      "nbconvert_exporter": "python",
      "pygments_lexer": "ipython3",
      "version": "3.12.10"
    }
  },
  "nbformat": 4,
  "nbformat_minor": 0
}
