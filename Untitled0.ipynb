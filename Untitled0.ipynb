{
  "nbformat": 4,
  "nbformat_minor": 0,
  "metadata": {
    "colab": {
      "provenance": []
    },
    "kernelspec": {
      "name": "python3",
      "display_name": "Python 3"
    },
    "language_info": {
      "name": "python"
    }
  },
  "cells": [
    {
      "cell_type": "code",
      "execution_count": null,
      "metadata": {
        "colab": {
          "base_uri": "https://localhost:8080/"
        },
        "id": "GZ0KhBWVZWnO",
        "outputId": "fa7e2c76-c077-42c0-c90f-1605555b94b3"
      },
      "outputs": [
        {
          "output_type": "stream",
          "name": "stdout",
          "text": [
            "(3,)\n",
            "1\n"
          ]
        }
      ],
      "source": [
        "import numpy as np\n",
        "c = np.array([1,2,3])\n",
        "print(np.shape(c))\n",
        "print(np.ndim(c))"
      ]
    },
    {
      "cell_type": "code",
      "source": [
        "import numpy as np\n",
        "c = np.array([[1,2,3]])\n",
        "print(np.shape(c))\n",
        "print(np.ndim(c))"
      ],
      "metadata": {
        "colab": {
          "base_uri": "https://localhost:8080/"
        },
        "id": "FyOQfTYAahP-",
        "outputId": "0444198b-cfd9-4e30-a8ea-59a3b6084f7f"
      },
      "execution_count": null,
      "outputs": [
        {
          "output_type": "stream",
          "name": "stdout",
          "text": [
            "(1, 3)\n",
            "2\n"
          ]
        }
      ]
    },
    {
      "cell_type": "code",
      "source": [
        "a=[1,2,3,4,5]\n",
        "print(a)"
      ],
      "metadata": {
        "colab": {
          "base_uri": "https://localhost:8080/"
        },
        "id": "H3oCPMp4bP9D",
        "outputId": "be8d07c9-755a-4825-bc5c-c8409e84d75b"
      },
      "execution_count": null,
      "outputs": [
        {
          "output_type": "stream",
          "name": "stdout",
          "text": [
            "[1, 2, 3, 4, 5]\n"
          ]
        }
      ]
    },
    {
      "cell_type": "code",
      "source": [
        "a=[[2,3],[14,5],[15,7]]\n",
        "\n",
        "b = np.array(a)\n",
        "print(b)\n",
        "print(b[0])\n",
        "print(b[0][0])\n",
        "print(b[1][1])\n",
        "print(b[::])\n",
        "\n"
      ],
      "metadata": {
        "colab": {
          "base_uri": "https://localhost:8080/"
        },
        "id": "Mr6DEnhrbWWQ",
        "outputId": "72403074-17a5-45eb-90c6-dde3d322c13d"
      },
      "execution_count": null,
      "outputs": [
        {
          "output_type": "stream",
          "name": "stdout",
          "text": [
            "[[ 2  3]\n",
            " [14  5]\n",
            " [15  7]]\n",
            "[2 3]\n",
            "2\n",
            "5\n",
            "[[ 2  3]\n",
            " [14  5]\n",
            " [15  7]]\n"
          ]
        }
      ]
    },
    {
      "cell_type": "code",
      "source": [
        "a=[[2,3,4],[14,5,6],[15,7,0]]\n",
        "b=np.array(a)\n",
        "print(b)\n",
        "print(b[0::2,1::2])\n",
        "print(b[0::2])"
      ],
      "metadata": {
        "colab": {
          "base_uri": "https://localhost:8080/"
        },
        "id": "msRzG9mOegZq",
        "outputId": "d03a2152-255a-4118-9bac-0a8b456f7e62"
      },
      "execution_count": null,
      "outputs": [
        {
          "output_type": "stream",
          "name": "stdout",
          "text": [
            "[[ 2  3  4]\n",
            " [14  5  6]\n",
            " [15  7  0]]\n",
            "[[3]\n",
            " [7]]\n",
            "[[ 2  3  4]\n",
            " [15  7  0]]\n"
          ]
        }
      ]
    },
    {
      "cell_type": "code",
      "source": [
        "a=[[2,3,4],[14,5,6],[15,7,0]]\n",
        "b=np.array(a)\n",
        "print(b[1])"
      ],
      "metadata": {
        "colab": {
          "base_uri": "https://localhost:8080/"
        },
        "id": "DxVob6RSqteL",
        "outputId": "c0c3677f-133f-46ae-f8d8-04dec6384d1b"
      },
      "execution_count": null,
      "outputs": [
        {
          "output_type": "stream",
          "name": "stdout",
          "text": [
            "[14  5  6]\n"
          ]
        }
      ]
    },
    {
      "cell_type": "code",
      "source": [
        "a=[[2,3,4],[14,5,6],[15,7,0]]\n",
        "b=np.array(a)\n",
        "print(b[1][1])\n",
        "print(b[::,1])\n",
        "print(b[-1])\n",
        "print(b[::-1])\n",
        "print(b[1][1])"
      ],
      "metadata": {
        "colab": {
          "base_uri": "https://localhost:8080/"
        },
        "id": "veYlwR7-gOO5",
        "outputId": "6b96a1f9-4894-42cd-897f-b4e09c2303c7"
      },
      "execution_count": null,
      "outputs": [
        {
          "output_type": "stream",
          "name": "stdout",
          "text": [
            "5\n",
            "[[5]]\n",
            "[3 5 7]\n",
            "[15  7  0]\n",
            "[[15  7  0]\n",
            " [14  5  6]\n",
            " [ 2  3  4]]\n",
            "5\n"
          ]
        }
      ]
    },
    {
      "cell_type": "code",
      "source": [],
      "metadata": {
        "id": "wLkkmp3NizGd"
      },
      "execution_count": null,
      "outputs": []
    },
    {
      "cell_type": "code",
      "source": [
        "a=[[2,3,4],[14,5,6],[15,7,0]]\n",
        "b=np.array(a)\n",
        "print(b[::-1])\n",
        "print(b[-1])\n",
        "print(b[::-1,1])"
      ],
      "metadata": {
        "colab": {
          "base_uri": "https://localhost:8080/"
        },
        "id": "BITY4C2fiE0_",
        "outputId": "32b820a4-5310-401d-abf6-1617e1531299"
      },
      "execution_count": null,
      "outputs": [
        {
          "output_type": "stream",
          "name": "stdout",
          "text": [
            "[[15  7  0]\n",
            " [14  5  6]\n",
            " [ 2  3  4]]\n",
            "[15  7  0]\n",
            "[7 5 3]\n"
          ]
        }
      ]
    }
  ]
}