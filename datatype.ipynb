{
  "nbformat": 4,
  "nbformat_minor": 0,
  "metadata": {
    "colab": {
      "provenance": []
    },
    "kernelspec": {
      "name": "python3",
      "display_name": "Python 3"
    },
    "language_info": {
      "name": "python"
    }
  },
  "cells": [
    {
      "cell_type": "code",
      "execution_count": null,
      "metadata": {
        "colab": {
          "base_uri": "https://localhost:8080/"
        },
        "id": "nj959QYo2X3J",
        "outputId": "6a67e72e-2921-4540-a78a-67b60d517781"
      },
      "outputs": [
        {
          "output_type": "stream",
          "name": "stdout",
          "text": [
            "[1 3 5 7 9]\n"
          ]
        }
      ],
      "source": [
        "import numpy as np\n",
        "a=np.arange(1,11,2)\n",
        "b=a\n",
        "print(b)"
      ]
    },
    {
      "cell_type": "code",
      "source": [
        "import numpy as np\n",
        "a=np.arange(1,9,2)\n",
        "b=a+2\n",
        "print(b)"
      ],
      "metadata": {
        "colab": {
          "base_uri": "https://localhost:8080/"
        },
        "id": "ZhhJvRlh205S",
        "outputId": "d2be7851-affa-4f73-9553-e58fdcea6dde"
      },
      "execution_count": null,
      "outputs": [
        {
          "output_type": "stream",
          "name": "stdout",
          "text": [
            "[3 5 7 9]\n"
          ]
        }
      ]
    },
    {
      "cell_type": "code",
      "source": [
        "# it prints square root\n",
        "print(np.sqrt(b))\n",
        "# it prints exponential means value of exponential is equal to 2.71\n",
        "print(np.exp(b))"
      ],
      "metadata": {
        "colab": {
          "base_uri": "https://localhost:8080/"
        },
        "id": "NYafKLtq232n",
        "outputId": "997eec09-cc65-4a92-9149-5148392f10ea"
      },
      "execution_count": null,
      "outputs": [
        {
          "output_type": "stream",
          "name": "stdout",
          "text": [
            "[1.73205081 2.23606798 2.64575131 3.        ]\n",
            "[  20.08553692  148.4131591  1096.63315843 8103.08392758]\n"
          ]
        }
      ]
    },
    {
      "cell_type": "code",
      "source": [
        "a=np.arange(1,9,2)\n",
        "# it prints the data type\n",
        "print(a.dtype)\n",
        "arr = np.array([1, 2, 3, 4])\n",
        "print(arr)\n",
        "print(arr.dtype)"
      ],
      "metadata": {
        "colab": {
          "base_uri": "https://localhost:8080/"
        },
        "id": "V7nU69QA4nm6",
        "outputId": "7ffe141b-4aaa-4e24-8877-1825aa7a56fa"
      },
      "execution_count": null,
      "outputs": [
        {
          "output_type": "stream",
          "name": "stdout",
          "text": [
            "int64\n",
            "[1 2 3 4]\n",
            "int64\n"
          ]
        }
      ]
    },
    {
      "cell_type": "code",
      "source": [
        "arr = np.array([1.0,2.0])\n",
        "print(arr)\n",
        "arr = np.array([1,2.0])\n",
        "print(arr.dtype)"
      ],
      "metadata": {
        "colab": {
          "base_uri": "https://localhost:8080/"
        },
        "id": "hdpUrZkR5VfV",
        "outputId": "a96bd5a5-eb97-4a05-e626-a17a8c6eaaaf"
      },
      "execution_count": null,
      "outputs": [
        {
          "output_type": "stream",
          "name": "stdout",
          "text": [
            "[1. 2.]\n",
            "float64\n"
          ]
        }
      ]
    },
    {
      "cell_type": "code",
      "source": [
        "arr = np.array('hlo')\n",
        "print(arr.dtype)"
      ],
      "metadata": {
        "colab": {
          "base_uri": "https://localhost:8080/"
        },
        "id": "rkmethXn52zM",
        "outputId": "8a50bff3-dcc9-4944-f46f-372a304c89cd"
      },
      "execution_count": null,
      "outputs": [
        {
          "output_type": "stream",
          "name": "stdout",
          "text": [
            "<U3\n"
          ]
        }
      ]
    },
    {
      "cell_type": "code",
      "source": [
        "# data type conversion\n",
        "arr = np.array([1, 2, 3, 4],dtype='str')\n",
        "print(arr)\n",
        "print(arr.dtype)\n",
        "arr = np.array([1, 2, 3, 4],dtype='float')\n",
        "print(arr)\n",
        "print(arr.dtype)"
      ],
      "metadata": {
        "colab": {
          "base_uri": "https://localhost:8080/"
        },
        "id": "-MFAjXvB7DlP",
        "outputId": "c8d2f86c-fdd6-4cd6-c8d5-38b72a23015f"
      },
      "execution_count": null,
      "outputs": [
        {
          "output_type": "stream",
          "name": "stdout",
          "text": [
            "['1' '2' '3' '4']\n",
            "<U1\n",
            "[1. 2. 3. 4.]\n",
            "float64\n"
          ]
        }
      ]
    },
    {
      "cell_type": "code",
      "source": [
        "# it convert data type of int to float\n",
        "arr = np.array([1, 2, 3, 4])\n",
        "new = arr.astype('float')\n",
        "print(new)\n",
        "print(new.dtype)\n",
        "# it convert data type of float to int\n",
        "arr = np.array([1.0, 2.45, 3.12, 4.99])\n",
        "ne = arr.astype('int')\n",
        "print(ne)\n",
        "print(ne.dtype)\n"
      ],
      "metadata": {
        "colab": {
          "base_uri": "https://localhost:8080/"
        },
        "id": "utb80-Fk7U8G",
        "outputId": "89c453e0-cef3-40e3-989c-bb13440ba947"
      },
      "execution_count": null,
      "outputs": [
        {
          "output_type": "stream",
          "name": "stdout",
          "text": [
            "[1. 2. 3. 4.]\n",
            "float64\n",
            "[1 2 3 4]\n",
            "int64\n"
          ]
        }
      ]
    },
    {
      "cell_type": "code",
      "source": [
        "arr = np.array([1, 0, -3, 4])\n",
        "new = arr.astype('bool')\n",
        "print(new)\n",
        "print(new.dtype)"
      ],
      "metadata": {
        "colab": {
          "base_uri": "https://localhost:8080/"
        },
        "id": "-u5U37md8Tvx",
        "outputId": "fe1449d7-a516-4c64-aeaf-edcb777df8f2"
      },
      "execution_count": null,
      "outputs": [
        {
          "output_type": "stream",
          "name": "stdout",
          "text": [
            "[ True False  True  True]\n",
            "bool\n"
          ]
        }
      ]
    },
    {
      "cell_type": "code",
      "source": [
        "arr = np.array([[1, 2, 3, 4]])\n",
        "# ndim prints the dimension of array\n",
        "print(arr.ndim)\n",
        "# shape prints the shape of array means how many rows and columns\n",
        "print(arr.shape)"
      ],
      "metadata": {
        "colab": {
          "base_uri": "https://localhost:8080/"
        },
        "id": "qGy2oEOC9GkG",
        "outputId": "d6789af5-ee2e-40ad-c29b-066c2389f06d"
      },
      "execution_count": null,
      "outputs": [
        {
          "output_type": "stream",
          "name": "stdout",
          "text": [
            "2\n",
            "(1, 4)\n"
          ]
        }
      ]
    },
    {
      "cell_type": "code",
      "source": [
        "arr = np.array([1, 2, 3, 4])\n",
        "print(arr)\n",
        "print(arr.ndim)\n",
        "print(arr.shape)\n",
        "# by using ndmin we can increase the dimension of array\n",
        "arr = np.array([1, 2, 3, 4],ndmin=4)\n",
        "print(arr)\n",
        "print(arr.ndim)\n",
        "print(arr.shape)"
      ],
      "metadata": {
        "colab": {
          "base_uri": "https://localhost:8080/"
        },
        "id": "mLEyGl8I_NTU",
        "outputId": "8482b867-d99e-4bdf-82a2-5ec4461356c0"
      },
      "execution_count": null,
      "outputs": [
        {
          "output_type": "stream",
          "name": "stdout",
          "text": [
            "[1 2 3 4]\n",
            "1\n",
            "(4,)\n",
            "[[[[1 2 3 4]]]]\n",
            "4\n",
            "(1, 1, 1, 4)\n"
          ]
        }
      ]
    }
  ]
}