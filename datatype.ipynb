{
  "cells": [
    {
      "cell_type": "code",
      "execution_count": null,
      "metadata": {
        "colab": {
          "base_uri": "https://localhost:8080/"
        },
        "id": "nj959QYo2X3J",
        "outputId": "6a67e72e-2921-4540-a78a-67b60d517781"
      },
      "outputs": [
        {
          "name": "stdout",
          "output_type": "stream",
          "text": [
            "[1 3 5 7 9]\n"
          ]
        }
      ],
      "source": [
        "import numpy as np\n",
        "a=np.arange(1,11,2)\n",
        "b=a\n",
        "print(b)"
      ]
    },
    {
      "cell_type": "code",
      "execution_count": null,
      "metadata": {
        "colab": {
          "base_uri": "https://localhost:8080/"
        },
        "id": "ZhhJvRlh205S",
        "outputId": "d2be7851-affa-4f73-9553-e58fdcea6dde"
      },
      "outputs": [
        {
          "name": "stdout",
          "output_type": "stream",
          "text": [
            "[3 5 7 9]\n"
          ]
        }
      ],
      "source": [
        "import numpy as np\n",
        "a=np.arange(1,9,2)\n",
        "b=a+2\n",
        "print(b)"
      ]
    },
    {
      "cell_type": "code",
      "execution_count": null,
      "metadata": {
        "colab": {
          "base_uri": "https://localhost:8080/"
        },
        "id": "NYafKLtq232n",
        "outputId": "997eec09-cc65-4a92-9149-5148392f10ea"
      },
      "outputs": [
        {
          "name": "stdout",
          "output_type": "stream",
          "text": [
            "[1.73205081 2.23606798 2.64575131 3.        ]\n",
            "[  20.08553692  148.4131591  1096.63315843 8103.08392758]\n"
          ]
        }
      ],
      "source": [
        "# it prints square root\n",
        "print(np.sqrt(b))\n",
        "# it prints exponential means value of exponential is equal to 2.71\n",
        "print(np.exp(b))"
      ]
    },
    {
      "cell_type": "code",
      "execution_count": null,
      "metadata": {
        "colab": {
          "base_uri": "https://localhost:8080/"
        },
        "id": "V7nU69QA4nm6",
        "outputId": "7ffe141b-4aaa-4e24-8877-1825aa7a56fa"
      },
      "outputs": [
        {
          "name": "stdout",
          "output_type": "stream",
          "text": [
            "int64\n",
            "[1 2 3 4]\n",
            "int64\n"
          ]
        }
      ],
      "source": [
        "a=np.arange(1,9,2)\n",
        "# it prints the data type\n",
        "print(a.dtype)\n",
        "arr = np.array([1, 2, 3, 4])\n",
        "print(arr)\n",
        "print(arr.dtype)"
      ]
    },
    {
      "cell_type": "code",
      "execution_count": null,
      "metadata": {
        "colab": {
          "base_uri": "https://localhost:8080/"
        },
        "id": "hdpUrZkR5VfV",
        "outputId": "a96bd5a5-eb97-4a05-e626-a17a8c6eaaaf"
      },
      "outputs": [
        {
          "name": "stdout",
          "output_type": "stream",
          "text": [
            "[1. 2.]\n",
            "float64\n"
          ]
        }
      ],
      "source": [
        "arr = np.array([1.0,2.0])\n",
        "print(arr)\n",
        "arr = np.array([1,2.0])\n",
        "print(arr.dtype)"
      ]
    },
    {
      "cell_type": "code",
      "execution_count": null,
      "metadata": {
        "colab": {
          "base_uri": "https://localhost:8080/"
        },
        "id": "rkmethXn52zM",
        "outputId": "8a50bff3-dcc9-4944-f46f-372a304c89cd"
      },
      "outputs": [
        {
          "name": "stdout",
          "output_type": "stream",
          "text": [
            "<U3\n"
          ]
        }
      ],
      "source": [
        "arr = np.array('hlo')\n",
        "print(arr.dtype)"
      ]
    },
    {
      "cell_type": "code",
      "execution_count": null,
      "metadata": {
        "colab": {
          "base_uri": "https://localhost:8080/"
        },
        "id": "-MFAjXvB7DlP",
        "outputId": "c8d2f86c-fdd6-4cd6-c8d5-38b72a23015f"
      },
      "outputs": [
        {
          "name": "stdout",
          "output_type": "stream",
          "text": [
            "['1' '2' '3' '4']\n",
            "<U1\n",
            "[1. 2. 3. 4.]\n",
            "float64\n"
          ]
        }
      ],
      "source": [
        "# data type conversion\n",
        "arr = np.array([1, 2, 3, 4],dtype='str')\n",
        "print(arr)\n",
        "print(arr.dtype)\n",
        "arr = np.array([1, 2, 3, 4],dtype='float')\n",
        "print(arr)\n",
        "print(arr.dtype)"
      ]
    },
    {
      "cell_type": "code",
      "execution_count": null,
      "metadata": {
        "colab": {
          "base_uri": "https://localhost:8080/"
        },
        "id": "utb80-Fk7U8G",
        "outputId": "89c453e0-cef3-40e3-989c-bb13440ba947"
      },
      "outputs": [
        {
          "name": "stdout",
          "output_type": "stream",
          "text": [
            "[1. 2. 3. 4.]\n",
            "float64\n",
            "[1 2 3 4]\n",
            "int64\n"
          ]
        }
      ],
      "source": [
        "# it convert data type of int to float\n",
        "arr = np.array([1, 2, 3, 4])\n",
        "new = arr.astype('float')\n",
        "print(new)\n",
        "print(new.dtype)\n",
        "# it convert data type of float to int\n",
        "arr = np.array([1.0, 2.45, 3.12, 4.99])\n",
        "ne = arr.astype('int')\n",
        "print(ne)\n",
        "print(ne.dtype)\n"
      ]
    },
    {
      "cell_type": "code",
      "execution_count": null,
      "metadata": {
        "colab": {
          "base_uri": "https://localhost:8080/"
        },
        "id": "-u5U37md8Tvx",
        "outputId": "fe1449d7-a516-4c64-aeaf-edcb777df8f2"
      },
      "outputs": [
        {
          "name": "stdout",
          "output_type": "stream",
          "text": [
            "[ True False  True  True]\n",
            "bool\n"
          ]
        }
      ],
      "source": [
        "arr = np.array([1, 0, -3, 4])\n",
        "new = arr.astype('bool')\n",
        "print(new)\n",
        "print(new.dtype)"
      ]
    },
    {
      "cell_type": "code",
      "execution_count": null,
      "metadata": {
        "colab": {
          "base_uri": "https://localhost:8080/"
        },
        "id": "qGy2oEOC9GkG",
        "outputId": "d6789af5-ee2e-40ad-c29b-066c2389f06d"
      },
      "outputs": [
        {
          "name": "stdout",
          "output_type": "stream",
          "text": [
            "2\n",
            "(1, 4)\n"
          ]
        }
      ],
      "source": [
        "arr = np.array([[1, 2, 3, 4]])\n",
        "# ndim prints the dimension of array\n",
        "print(arr.ndim)\n",
        "# shape prints the shape of array means how many rows and columns\n",
        "print(arr.shape)"
      ]
    },
    {
      "cell_type": "code",
      "execution_count": null,
      "metadata": {
        "colab": {
          "base_uri": "https://localhost:8080/"
        },
        "id": "mLEyGl8I_NTU",
        "outputId": "8482b867-d99e-4bdf-82a2-5ec4461356c0"
      },
      "outputs": [
        {
          "name": "stdout",
          "output_type": "stream",
          "text": [
            "[1 2 3 4]\n",
            "1\n",
            "(4,)\n",
            "[[[[1 2 3 4]]]]\n",
            "4\n",
            "(1, 1, 1, 4)\n"
          ]
        }
      ],
      "source": [
        "arr = np.array([1, 2, 3, 4])\n",
        "print(arr)\n",
        "print(arr.ndim)\n",
        "print(arr.shape)\n",
        "# by using ndmin we can increase the dimension of array\n",
        "arr = np.array([1, 2, 3, 4],ndmin=4)\n",
        "print(arr)\n",
        "print(arr.ndim)\n",
        "print(arr.shape)"
      ]
    }
  ],
  "metadata": {
    "colab": {
      "provenance": []
    },
    "kernelspec": {
      "display_name": "Python 3",
      "name": "python3"
    },
    "language_info": {
      "name": "python",
      "version": "3.12.10"
    }
  },
  "nbformat": 4,
  "nbformat_minor": 0
}
