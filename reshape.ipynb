{
  "cells": [
    {
      "cell_type": "code",
      "execution_count": 1,
      "metadata": {
        "colab": {
          "base_uri": "https://localhost:8080/"
        },
        "id": "MyowfuT--zzK",
        "outputId": "e42098ed-ea6e-4335-f23e-c4d80de6ac5e"
      },
      "outputs": [
        {
          "name": "stdout",
          "output_type": "stream",
          "text": [
            "2\n",
            "(2, 3)\n",
            "[[1 2 3]\n",
            " [2 3 4]]\n",
            "2\n",
            "(3, 2)\n",
            "[[1 2]\n",
            " [3 2]\n",
            " [3 4]]\n"
          ]
        }
      ],
      "source": [
        "import numpy as np\n",
        "a=np.array([[1,2,3],[2,3,4]])\n",
        "print(a.ndim)\n",
        "print(a.shape)\n",
        "print(a)\n",
        "# reshape changes the shape of array it depends on how many elements in a array\n",
        "b=a.reshape(3,2)\n",
        "print(b.ndim)\n",
        "print(b.shape)\n",
        "print(b)\n"
      ]
    },
    {
      "cell_type": "code",
      "execution_count": 3,
      "metadata": {
        "colab": {
          "base_uri": "https://localhost:8080/"
        },
        "id": "GrjFYz93AVfy",
        "outputId": "c32620ff-cea7-4025-e530-0fc3f0f8c00d"
      },
      "outputs": [
        {
          "name": "stdout",
          "output_type": "stream",
          "text": [
            "[[1 2 3 2 3 4]]\n",
            "[ 0  1  2  3  4  5  6  7  8  9 10 11]\n",
            "[[ 0  1]\n",
            " [ 2  3]\n",
            " [ 4  5]\n",
            " [ 6  7]\n",
            " [ 8  9]\n",
            " [10 11]]\n",
            "[[[ 0  1]\n",
            "  [ 2  3]\n",
            "  [ 4  5]]\n",
            "\n",
            " [[ 6  7]\n",
            "  [ 8  9]\n",
            "  [10 11]]]\n",
            "[ 0  1  2  3  4  5  6  7  8  9 10 11]\n"
          ]
        }
      ],
      "source": [
        "a=np.array([[1,2,3],[2,3,4]])\n",
        "b=a.reshape(1,6)\n",
        "print(b)\n",
        "c=np.arange(12)\n",
        "print(c)\n",
        "d = c.reshape(6,2)\n",
        "print(d)\n",
        "e =c.reshape(2,3,2)\n",
        "print(e)\n",
        "# in reshape if we use -1 then it will automatically convert the array into 1D array\n",
        "f = c.reshape(-1)\n",
        "print(f)\n"
      ]
    },
    {
      "cell_type": "code",
      "execution_count": null,
      "metadata": {
        "colab": {
          "base_uri": "https://localhost:8080/"
        },
        "id": "fTFvnHG2D6lv",
        "outputId": "a5672c10-1015-4b86-e73b-e380242bebf7"
      },
      "outputs": [
        {
          "name": "stdout",
          "output_type": "stream",
          "text": [
            "4\n",
            "8\n",
            "32\n",
            "int64\n"
          ]
        }
      ],
      "source": [
        "a=np.array([1,2,3,4])\n",
        "# size prints the number of elements in array\n",
        "print(a.size)\n",
        "# itemsize prints the size of each element in array\n",
        "print(a.itemsize)\n",
        "# nbytes prints the total size of array\n",
        "print(a.nbytes)\n",
        "# dtype prints the size of datatype in array\n",
        "print(a.dtype)"
      ]
    },
    {
      "cell_type": "code",
      "execution_count": 4,
      "metadata": {
        "colab": {
          "base_uri": "https://localhost:8080/"
        },
        "id": "JpkXE_XsHLGi",
        "outputId": "16551aca-2c59-4be2-f818-8401fdd7e3d4"
      },
      "outputs": [
        {
          "name": "stdout",
          "output_type": "stream",
          "text": [
            "[1 4 7 2 5 8 5 7 8]\n"
          ]
        }
      ],
      "source": [
        "a = np.array([[1,4,7],[2,5,8],[5,7,8]])\n",
        "# FLATTEN prints the element in 1 dim in row wise\n",
        "b=a.flatten()\n",
        "print(b)"
      ]
    },
    {
      "cell_type": "code",
      "execution_count": 5,
      "metadata": {
        "colab": {
          "base_uri": "https://localhost:8080/"
        },
        "id": "_UeXOsn7H9_5",
        "outputId": "23f04821-1780-418b-c804-51d9f367fcad"
      },
      "outputs": [
        {
          "name": "stdout",
          "output_type": "stream",
          "text": [
            "[1 2 5 4 5 7 7 8 8]\n"
          ]
        }
      ],
      "source": [
        "a = np.array([[1,4,7],[2,5,8],[5,7,8]])\n",
        "# and when we use flatten('F') it prints the element in 1 dim in column wise\n",
        "# in mysql there is no option of column wise so we use flatten('F')\n",
        "# in flatten we use F to print column wise\n",
        "b=a.flatten('F')\n",
        "print(b)"
      ]
    }
  ],
  "metadata": {
    "colab": {
      "provenance": []
    },
    "kernelspec": {
      "display_name": "Python 3",
      "name": "python3"
    },
    "language_info": {
      "codemirror_mode": {
        "name": "ipython",
        "version": 3
      },
      "file_extension": ".py",
      "mimetype": "text/x-python",
      "name": "python",
      "nbconvert_exporter": "python",
      "pygments_lexer": "ipython3",
      "version": "3.12.10"
    }
  },
  "nbformat": 4,
  "nbformat_minor": 0
}
