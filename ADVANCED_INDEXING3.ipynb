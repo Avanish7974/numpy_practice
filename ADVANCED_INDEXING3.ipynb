{
  "cells": [
    {
      "cell_type": "code",
      "execution_count": 1,
      "metadata": {
        "colab": {
          "base_uri": "https://localhost:8080/"
        },
        "id": "Yu4AC-dOl5d1",
        "outputId": "6c31da2d-c442-4c2b-993c-8da0cab6402f"
      },
      "outputs": [
        {
          "name": "stdout",
          "output_type": "stream",
          "text": [
            "[1 4 5]\n"
          ]
        }
      ],
      "source": [
        "import numpy as np\n",
        "x = np.array([[1,2],[3,4],[5,6]])\n",
        "# this concept is known as advance indexing or fancy indexing\n",
        "y = x[[0,1,2],[0,1,0]]\n",
        "print(y)"
      ]
    },
    {
      "cell_type": "code",
      "execution_count": 4,
      "metadata": {
        "colab": {
          "base_uri": "https://localhost:8080/"
        },
        "id": "4SOo0c8HsPsg",
        "outputId": "69f62ca8-11cf-4ba0-bc0c-0156780a0c67"
      },
      "outputs": [
        {
          "name": "stdout",
          "output_type": "stream",
          "text": [
            "(3, 2, 2, 3)\n",
            "[[[[ 0  1  2]\n",
            "   [ 3  4  5]]\n",
            "\n",
            "  [[ 6  7  8]\n",
            "   [ 9 10 11]]]\n",
            "\n",
            "\n",
            " [[[12 13 14]\n",
            "   [15 16 17]]\n",
            "\n",
            "  [[18 19 20]\n",
            "   [21 22 23]]]\n",
            "\n",
            "\n",
            " [[[24 25 26]\n",
            "   [27 28 29]]\n",
            "\n",
            "  [[30 31 32]\n",
            "   [33 34 35]]]]\n"
          ]
        }
      ],
      "source": [
        "import numpy as np\n",
        "matrix = np.array([[[[0, 1, 2], [3, 4, 5] ],[[6, 7, 8],[9, 10, 11] ]],[[[12, 13, 14], [15, 16, 17]],\n",
        "                  [[18, 19, 20],[21, 22, 23] ] ], [[ [24, 25, 26], [27, 28, 29] ], [ [30, 31, 32], [33, 34, 35]]]])\n",
        "\n",
        "print(matrix.shape)\n",
        "print(matrix)\n"
      ]
    },
    {
      "cell_type": "code",
      "execution_count": 5,
      "metadata": {
        "colab": {
          "base_uri": "https://localhost:8080/"
        },
        "id": "NPGsuWkXukLs",
        "outputId": "5a7ccf19-016d-48cb-9b6a-e3b5c99bfcb5"
      },
      "outputs": [
        {
          "name": "stdout",
          "output_type": "stream",
          "text": [
            "(3, 2, 2, 3)\n",
            "[[[[ 1  2  3]\n",
            "   [ 4  5  6]]\n",
            "\n",
            "  [[ 7  8  9]\n",
            "   [10 11 12]]]\n",
            "\n",
            "\n",
            " [[[ 1  2  3]\n",
            "   [ 4  5  6]]\n",
            "\n",
            "  [[ 7  8  9]\n",
            "   [10 11 12]]]\n",
            "\n",
            "\n",
            " [[[ 1  2  3]\n",
            "   [ 4  5  6]]\n",
            "\n",
            "  [[ 7  8  9]\n",
            "   [10 11 12]]]]\n"
          ]
        }
      ],
      "source": [
        "import numpy as np\n",
        "# matrix = np.array([[[[1,2,3],[4,5,6]],[[7,8,9],[10,11,12]]],[[[1,2,3],[4,5,6]],[[7,8,9],[10,11,12]]],[[[1,2,3],[4,5,6]],[[7,8,9],[10,11,12]]]])\n",
        "matrix = np.array([[[[1,2,3],[4,5,6]],[[7,8,9],[10,11,12]]],[[[1,2,3],[4,5,6]],[[7,8,9],[10,11,12]]],[[[1,2,3],[4,5,6]],[[7,8,9],[10,11,12]]]])\n",
        "\n",
        "print(matrix.shape)\n",
        "print(matrix)"
      ]
    },
    {
      "cell_type": "code",
      "execution_count": null,
      "metadata": {
        "colab": {
          "base_uri": "https://localhost:8080/"
        },
        "id": "YIZCNh54ogZL",
        "outputId": "c2def3b8-a7d5-4572-8cd0-a676ee59fc04"
      },
      "outputs": [
        {
          "name": "stdout",
          "output_type": "stream",
          "text": [
            "Original array:\n",
            "[[ 0  1  2]\n",
            " [ 3  4  5]\n",
            " [ 6  7  8]\n",
            " [ 9 10 11]]\n",
            "\n",
            "After slicing, our array becomes:\n",
            "[[ 4  5]\n",
            " [ 7  8]\n",
            " [10 11]]\n",
            "\n",
            "Slicing using advanced index for column:\n",
            "[[ 4  5]\n",
            " [ 7  8]\n",
            " [10 11]]\n",
            "[0 4 8 9]\n"
          ]
        }
      ],
      "source": [
        "import numpy as np\n",
        "# Original array\n",
        "x = np.array([[ 0,  1,  2], [ 3,  4,  5], [ 6,  7,  8],[ 9, 10, 11]])\n",
        "print(\"Original array:\")\n",
        "print(x)\n",
        "# Slicing\n",
        "z = x[1:4, 1:3]\n",
        "print(\"\\nAfter slicing, our array becomes:\")\n",
        "print(z)\n",
        "# Using advanced index for column\n",
        "y = x[1:4, [1, 2]]\n",
        "print(\"\\nSlicing using advanced index for column:\")\n",
        "print(y)\n",
        "# program to print 0,4,8,9\n",
        "w = x[[0,1,2,3],[0,1,2,0]]\n",
        "print(w)"
      ]
    }
  ],
  "metadata": {
    "colab": {
      "provenance": []
    },
    "kernelspec": {
      "display_name": "Python 3",
      "name": "python3"
    },
    "language_info": {
      "codemirror_mode": {
        "name": "ipython",
        "version": 3
      },
      "file_extension": ".py",
      "mimetype": "text/x-python",
      "name": "python",
      "nbconvert_exporter": "python",
      "pygments_lexer": "ipython3",
      "version": "3.12.10"
    }
  },
  "nbformat": 4,
  "nbformat_minor": 0
}
